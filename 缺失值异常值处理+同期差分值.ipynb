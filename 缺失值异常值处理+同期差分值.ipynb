{
 "cells": [
  {
   "cell_type": "markdown",
   "metadata": {},
   "source": [
    "#import,读取数据"
   ]
  },
  {
   "cell_type": "code",
   "execution_count": 3,
   "metadata": {
    "ExecuteTime": {
     "end_time": "2021-06-19T01:34:28.234990Z",
     "start_time": "2021-06-19T01:34:28.217009Z"
    }
   },
   "outputs": [],
   "source": [
    "#!/usr/bin/env python\n",
    "# coding: utf-8\n",
    "#导入包\n",
    "import pandas as pd\n",
    "import os\n",
    "import gc\n",
    "import lightgbm as lgb\n",
    "import xgboost as xgb\n",
    "from catboost import CatBoostRegressor\n",
    "from sklearn.linear_model import SGDRegressor, LinearRegression, Ridge\n",
    "from sklearn.preprocessing import MinMaxScaler\n",
    "import math\n",
    "import numpy as np\n",
    "from tqdm import tqdm\n",
    "from sklearn.model_selection import StratifiedKFold, KFold\n",
    "from sklearn.metrics import mean_absolute_error, mean_squared_error\n",
    "import matplotlib.pyplot as plt\n",
    "import time\n",
    "import warnings\n",
    "warnings.filterwarnings('ignore')"
   ]
  },
  {
   "cell_type": "code",
   "execution_count": 5,
   "metadata": {
    "ExecuteTime": {
     "end_time": "2021-06-19T01:34:40.067270Z",
     "start_time": "2021-06-19T01:34:40.021086Z"
    }
   },
   "outputs": [],
   "source": [
    "#数据读取\n",
    "train_df = pd.read_csv('train.csv')\n",
    "test_df = pd.read_csv('test.csv')\n",
    "sub = pd.DataFrame(test_df['time'])"
   ]
  },
  {
   "cell_type": "code",
   "execution_count": 3,
   "metadata": {
    "ExecuteTime": {
     "end_time": "2020-08-20T11:30:48.654919Z",
     "start_time": "2020-08-20T11:30:48.648923Z"
    }
   },
   "outputs": [],
   "source": [
    "#更改列名\n",
    "train_df.columns = [\n",
    "    'time', 'year', 'month', 'day', 'hour', 'min', 'sec', 'outdoorTemp',\n",
    "    'outdoorHum', 'outdoorAtmo', 'indoorHum', 'indoorAtmo', 'temperature'\n",
    "]\n",
    "test_df.columns = [\n",
    "    'time', 'year', 'month', 'day', 'hour', 'min', 'sec', 'outdoorTemp',\n",
    "    'outdoorHum', 'outdoorAtmo', 'indoorHum', 'indoorAtmo'\n",
    "]"
   ]
  },
  {
   "cell_type": "code",
   "execution_count": 223,
   "metadata": {
    "ExecuteTime": {
     "end_time": "2020-08-16T08:15:49.193385Z",
     "start_time": "2020-08-16T08:15:49.181392Z"
    }
   },
   "outputs": [
    {
     "name": "stdout",
     "output_type": "stream",
     "text": [
      "<class 'pandas.core.frame.DataFrame'>\n",
      "RangeIndex: 406 entries, 0 to 405\n",
      "Data columns (total 12 columns):\n",
      " #   Column       Non-Null Count  Dtype  \n",
      "---  ------       --------------  -----  \n",
      " 0   time         406 non-null    int64  \n",
      " 1   year         406 non-null    int64  \n",
      " 2   month        406 non-null    int64  \n",
      " 3   day          406 non-null    int64  \n",
      " 4   hour         406 non-null    int64  \n",
      " 5   min          406 non-null    int64  \n",
      " 6   sec          406 non-null    int64  \n",
      " 7   outdoorTemp  404 non-null    float64\n",
      " 8   outdoorHum   404 non-null    float64\n",
      " 9   outdoorAtmo  404 non-null    float64\n",
      " 10  indoorHum    405 non-null    float64\n",
      " 11  indoorAtmo   405 non-null    float64\n",
      "dtypes: float64(5), int64(7)\n",
      "memory usage: 38.2 KB\n"
     ]
    }
   ],
   "source": [
    "#train_df.info()\n",
    "test_df.info()"
   ]
  },
  {
   "cell_type": "markdown",
   "metadata": {},
   "source": [
    "#缺失值以及异常值处理"
   ]
  },
  {
   "cell_type": "code",
   "execution_count": 5,
   "metadata": {
    "ExecuteTime": {
     "end_time": "2020-08-24T09:21:18.335892Z",
     "start_time": "2020-08-24T09:21:13.323988Z"
    },
    "scrolled": true
   },
   "outputs": [],
   "source": [
    "#第一类，上下都缺失三个\n",
    "for i in range(0,train_df.shape[0]-1):\n",
    "    if pd.isnull(train_df['outdoorTemp'].loc[i]) and pd.isnull(train_df['temperature'].loc[i+1]):\n",
    "        train_df['outdoorTemp'].loc[i] = train_df['outdoorTemp'].loc[i+1]\n",
    "        train_df['outdoorHum'].loc[i] = train_df['outdoorHum'].loc[i+1]\n",
    "        train_df['outdoorAtmo'].loc[i] = train_df['outdoorAtmo'].loc[i+1]        \n",
    "        train_df['indoorHum'].loc[i+1] = train_df['indoorHum'].loc[i]\n",
    "        train_df['indoorAtmo'].loc[i+1] = train_df['indoorAtmo'].loc[i]\n",
    "        train_df['temperature'].loc[i+1] = train_df['temperature'].loc[i]\n",
    "        \n",
    "#第二类，缺失六个 ，直接删除\n",
    "for i in range(0,train_df.shape[0]-1):\n",
    "    if pd.isnull(train_df['outdoorTemp'].loc[i]) and pd.isnull(train_df['temperature'].loc[i]):\n",
    "        train_df.drop(index=i,inplace=True)\n",
    "        \n",
    "#剩余的缺失值 :连续缺失\n",
    "train_df = train_df.fillna(method='ffill')\n",
    "test_df = test_df.fillna(method='ffill')\n",
    "\n",
    "#删除重复行\n",
    "train_df.drop_duplicates(subset=['month','day','hour','min'],keep = 'first',inplace=True)\n",
    "\n",
    "#重置索引\n",
    "train_df=train_df.reset_index(drop=True)"
   ]
  },
  {
   "cell_type": "code",
   "execution_count": 225,
   "metadata": {
    "ExecuteTime": {
     "end_time": "2020-08-16T08:15:57.718990Z",
     "start_time": "2020-08-16T08:15:52.043588Z"
    }
   },
   "outputs": [],
   "source": [
    "#修改异常值\n",
    "train_df['outdoorTemp-temperature'] = train_df['outdoorTemp'] - train_df['temperature']\n",
    "train_df['diff-temperature'] = train_df['temperature'].diff(1)\n",
    "train_df['diff_outdoorTemp'] = train_df['outdoorTemp'].diff(1)\n",
    "train_df['diff_outdoorHum'] = train_df['outdoorHum'].diff(1)\n",
    "train_df['diff_outdoorAtmo'] = train_df['outdoorAtmo'].diff(1)\n",
    "train_df['diff_indoorHum'] = train_df['indoorHum'].diff(1)\n",
    "train_df['diff_indoorAtmo'] = train_df['indoorAtmo'].diff(1)\n",
    "test_df['diff_outdoorTemp'] = test_df['outdoorTemp'].diff(1)\n",
    "test_df['diff_outdoorHum'] = test_df['outdoorHum'].diff(1)\n",
    "test_df['diff_outdoorAtmo'] = test_df['outdoorAtmo'].diff(1)\n",
    "test_df['diff_indoorHum'] = test_df['indoorHum'].diff(1)\n",
    "test_df['diff_indoorAtmo'] = test_df['indoorAtmo'].diff(1)\n",
    "for i in range(1, 24526):\n",
    "    if train_df['hour'].iloc[i] != 12 and train_df['hour'].iloc[i] !=13 and train_df['hour'].iloc[i] != 1 and train_df['hour'].iloc[i] != 0:\n",
    "        if (train_df['min'].iloc[i] - train_df['min'].iloc[i - 1] < 7\n",
    "         and train_df['hour'].iloc[i] == train_df['hour'].iloc[i - 1])or(train_df['hour'].iloc[i] != train_df['hour'].iloc[i - 1]\n",
    "         and train_df['min'].iloc[i] < 4 and train_df['min'].iloc[i - 1] > 57):\n",
    "            #室外湿度\n",
    "            if train_df['diff_outdoorHum'].iloc[i] > 2:\n",
    "                train_df['outdoorHum'].iloc[i] = train_df['outdoorHum'].iloc[i - 1] + 0.1\n",
    "            if train_df['diff_outdoorHum'].iloc[i] < -2:\n",
    "                train_df['outdoorHum'].iloc[i] = train_df['outdoorHum'].iloc[i - 1] - 0.1\n",
    "            #室外压强\n",
    "            if train_df['diff_outdoorAtmo'].iloc[i] > 5:\n",
    "                train_df['outdoorAtmo'].iloc[i] = train_df['outdoorAtmo'].iloc[i - 1] + 0.1\n",
    "            if train_df['diff_outdoorAtmo'].iloc[i] < -5:\n",
    "                train_df['outdoorAtmo'].iloc[i] = train_df['outdoorAtmo'].iloc[i - 1] - 0.1\n",
    "            #室内湿度\n",
    "            if train_df['diff_indoorHum'].iloc[i] > 2:\n",
    "                train_df['indoorHum'].iloc[i] = train_df['indoorHum'].iloc[i-1] + 0.1\n",
    "            if train_df['diff_indoorHum'].iloc[i] < -2:\n",
    "                train_df['indoorHum'].iloc[i] = train_df['indoorHum'].iloc[i-1] - 0.1\n",
    "            #室内压强\n",
    "            if train_df['diff_indoorAtmo'].iloc[i] > 5:\n",
    "                train_df['indoorAtmo'].iloc[i] = train_df['indoorAtmo'].iloc[i - 1] + 0.1\n",
    "            if train_df['diff_indoorAtmo'].iloc[i] < -5:\n",
    "                train_df['indoorAtmo'].iloc[i] = train_df['indoorAtmo'].iloc[i - 1] - 0.1\n",
    "            #室外温度\n",
    "            if train_df['diff_outdoorTemp'].iloc[i] >= 1:\n",
    "                train_df['outdoorTemp'].iloc[i] = train_df['outdoorTemp'].iloc[i - 1] + 0.1\n",
    "            if train_df['diff_outdoorTemp'].iloc[i] <= -1:\n",
    "                train_df['outdoorTemp'].iloc[i] = train_df['outdoorTemp'].iloc[i - 1] - 0.1\n",
    "            #室内温度\n",
    "            if train_df['diff-temperature'].iloc[i] >= 1:\n",
    "                train_df['temperature'].iloc[i] = train_df['temperature'].iloc[i - 1] + 0.1\n",
    "            if train_df['diff-temperature'].iloc[i] <= -1:\n",
    "                train_df['temperature'].iloc[i] = train_df['temperature'].iloc[i - 1] - 0.1\n",
    "    elif train_df['min'].iloc[i]>=2:\n",
    "        #室外湿度\n",
    "        if train_df['diff_outdoorHum'].iloc[i] > 2:\n",
    "            train_df['outdoorHum'].iloc[i] = train_df['outdoorHum'].iloc[i - 1] + 0.1\n",
    "        if train_df['diff_outdoorHum'].iloc[i] < -2:\n",
    "            train_df['outdoorHum'].iloc[i] = train_df['outdoorHum'].iloc[i - 1] - 0.1\n",
    "        #室外压强\n",
    "        if train_df['diff_outdoorAtmo'].iloc[i] > 5:\n",
    "            train_df['outdoorAtmo'].iloc[i] = train_df['outdoorAtmo'].iloc[i - 1] + 0.1\n",
    "        if train_df['diff_outdoorAtmo'].iloc[i] < -5:\n",
    "            train_df['outdoorAtmo'].iloc[i] = train_df['outdoorAtmo'].iloc[i - 1] - 0.1\n",
    "        #室内湿度\n",
    "        if train_df['diff_indoorHum'].iloc[i] > 2:\n",
    "            train_df['indoorHum'].iloc[i] = train_df['indoorHum'].iloc[i-1] + 0.1\n",
    "        if train_df['diff_indoorHum'].iloc[i] < -2:\n",
    "            train_df['indoorHum'].iloc[i] = train_df['indoorHum'].iloc[i-1] - 0.1\n",
    "        #室内压强\n",
    "        if train_df['diff_indoorAtmo'].iloc[i] > 5:\n",
    "            train_df['indoorAtmo'].iloc[i] = train_df['indoorAtmo'].iloc[i - 1] + 0.1\n",
    "        if train_df['diff_indoorAtmo'].iloc[i] < -5:\n",
    "            train_df['indoorAtmo'].iloc[i] = train_df['indoorAtmo'].iloc[i - 1] - 0.1\n",
    "        #室外温度\n",
    "        if train_df['diff_outdoorTemp'].iloc[i] >= 1:\n",
    "            train_df['outdoorTemp'].iloc[i] = train_df['outdoorTemp'].iloc[i - 1] + 0.1\n",
    "        if train_df['diff_outdoorTemp'].iloc[i] <= -1:\n",
    "            train_df['outdoorTemp'].iloc[i] = train_df['outdoorTemp'].iloc[i - 1] - 0.1\n",
    "        #室内温度\n",
    "        if train_df['diff-temperature'].iloc[i] >= 1:\n",
    "            train_df['temperature'].iloc[i] = train_df['temperature'].iloc[i - 1] + 0.1\n",
    "        if train_df['diff-temperature'].iloc[i] <= -1:\n",
    "            train_df['temperature'].iloc[i] = train_df['temperature'].iloc[i - 1] - 0.1\n",
    "for i in range(1, 406):\n",
    "    if test_df['hour'].iloc[i] != 12 and test_df['hour'].iloc[i] !=13 and test_df['hour'].iloc[i] != 1 and test_df['hour'].iloc[i] != 0:\n",
    "        if (test_df['min'].iloc[i] - test_df['min'].iloc[i - 1] < 7\n",
    "         and test_df['hour'].iloc[i] == test_df['hour'].iloc[i - 1])or(test_df['hour'].iloc[i] != test_df['hour'].iloc[i - 1]\n",
    "         and test_df['min'].iloc[i] < 4 and test_df['min'].iloc[i - 1] > 57):\n",
    "            #室外湿度\n",
    "            if test_df['diff_outdoorHum'].iloc[i] > 2:\n",
    "                test_df['outdoorHum'].iloc[i] = test_df['outdoorHum'].iloc[i -1] + 0.1\n",
    "            if test_df['diff_outdoorHum'].iloc[i] < -2:\n",
    "                test_df['outdoorHum'].iloc[i] = test_df['outdoorHum'].iloc[i -1] - 0.1\n",
    "            #室外压强\n",
    "            if test_df['diff_outdoorAtmo'].iloc[i] > 5:\n",
    "                test_df['outdoorAtmo'].iloc[i] = test_df['outdoorAtmo'].iloc[i - 1] + 0.1\n",
    "            if test_df['diff_outdoorAtmo'].iloc[i] < -5:\n",
    "                test_df['outdoorAtmo'].iloc[i] = test_df['outdoorAtmo'].iloc[i - 1] - 0.1\n",
    "            #室内湿度\n",
    "            if test_df['diff_indoorHum'].iloc[i] > 2:\n",
    "                test_df['indoorHum'].iloc[i] = test_df['indoorHum'].iloc[i -1] + 0.1\n",
    "            if test_df['diff_indoorHum'].iloc[i] < -2:\n",
    "                test_df['indoorHum'].iloc[i] = test_df['indoorHum'].iloc[i - 1] - 0.1\n",
    "            #室内压强\n",
    "            if test_df['diff_indoorAtmo'].iloc[i] > 5:\n",
    "                test_df['indoorAtmo'].iloc[i] = test_df['indoorAtmo'].iloc[i -1] + 0.1\n",
    "            if test_df['diff_indoorAtmo'].iloc[i] < -5:\n",
    "                test_df['indoorAtmo'].iloc[i] = test_df['indoorAtmo'].iloc[i -1] - 0.1\n",
    "            #室外温度\n",
    "            if test_df['diff_outdoorTemp'].iloc[i] >= 1:\n",
    "                test_df['outdoorTemp'].iloc[i] = test_df['outdoorTemp'].iloc[i - 1] + 0.1\n",
    "            if test_df['diff_outdoorTemp'].iloc[i] <= -1:\n",
    "                test_df['outdoorTemp'].iloc[i] = test_df['outdoorTemp'].iloc[i - 1] - 0.1  \n",
    "    elif test_df['min'].iloc[i]>=2 and ((test_df['min'].iloc[i] - test_df['min'].iloc[i - 1] < 7\n",
    "         and test_df['hour'].iloc[i] == test_df['hour'].iloc[i - 1]) |\n",
    "        (test_df['hour'].iloc[i] != test_df['hour'].iloc[i - 1]\n",
    "         and test_df['min'].iloc[i] < 4 and test_df['min'].iloc[i - 1] > 57)):\n",
    "        if test_df['diff_outdoorHum'].iloc[i] > 2:\n",
    "            test_df['outdoorHum'].iloc[i] = test_df['outdoorHum'].iloc[i -1] + 0.1\n",
    "        if test_df['diff_outdoorHum'].iloc[i] < -2:\n",
    "            test_df['outdoorHum'].iloc[i] = test_df['outdoorHum'].iloc[i -1] - 0.1\n",
    "        #室外压强\n",
    "        if test_df['diff_outdoorAtmo'].iloc[i] > 5:\n",
    "            test_df['outdoorAtmo'].iloc[i] = test_df['outdoorAtmo'].iloc[i - 1] + 0.1\n",
    "        if test_df['diff_outdoorAtmo'].iloc[i] < -5:\n",
    "            test_df['outdoorAtmo'].iloc[i] = test_df['outdoorAtmo'].iloc[i - 1] - 0.1\n",
    "        #室内湿度\n",
    "        if test_df['diff_indoorHum'].iloc[i] > 2:\n",
    "            test_df['indoorHum'].iloc[i] = test_df['indoorHum'].iloc[i -1] + 0.1\n",
    "        if test_df['diff_indoorHum'].iloc[i] < -2:\n",
    "            test_df['indoorHum'].iloc[i] = test_df['indoorHum'].iloc[i - 1] - 0.1\n",
    "        #室内压强\n",
    "        if test_df['diff_indoorAtmo'].iloc[i] > 5:\n",
    "            test_df['indoorAtmo'].iloc[i] = test_df['indoorAtmo'].iloc[i -1] + 0.1\n",
    "        if test_df['diff_indoorAtmo'].iloc[i] < -5:\n",
    "            test_df['indoorAtmo'].iloc[i] = test_df['indoorAtmo'].iloc[i -1] - 0.1\n",
    "        #室外温度\n",
    "        if test_df['diff_outdoorTemp'].iloc[i] >= 1:\n",
    "            test_df['outdoorTemp'].iloc[i] = test_df['outdoorTemp'].iloc[i - 1] + 0.1\n",
    "        if test_df['diff_outdoorTemp'].iloc[i] <= -1:\n",
    "            test_df['outdoorTemp'].iloc[i] = test_df['outdoorTemp'].iloc[i - 1] - 0.1  "
   ]
  },
  {
   "cell_type": "code",
   "execution_count": 226,
   "metadata": {
    "ExecuteTime": {
     "end_time": "2020-08-16T08:15:57.731968Z",
     "start_time": "2020-08-16T08:15:57.719974Z"
    },
    "scrolled": true
   },
   "outputs": [],
   "source": [
    "cols1=['outdoorTemp-temperature','diff-temperature','diff_outdoorTemp','diff_outdoorHum',\n",
    "       'diff_outdoorAtmo','diff_indoorHum','diff_indoorAtmo']\n",
    "\n",
    "cols2=['diff_outdoorTemp','diff_outdoorHum','diff_outdoorAtmo','diff_indoorHum','diff_indoorAtmo']\n",
    "train_df.drop(cols1,axis=1,inplace=True)\n",
    "test_df.drop(cols2,axis=1,inplace=True)"
   ]
  },
  {
   "cell_type": "markdown",
   "metadata": {},
   "source": [
    "#滑动窗口，添加特征的统计值"
   ]
  },
  {
   "cell_type": "code",
   "execution_count": 227,
   "metadata": {
    "ExecuteTime": {
     "end_time": "2020-08-16T08:21:44.358186Z",
     "start_time": "2020-08-16T08:15:57.736967Z"
    }
   },
   "outputs": [
    {
     "name": "stderr",
     "output_type": "stream",
     "text": [
      "100%|████████████████████████████████████████████████████████████████████████████████████| 5/5 [05:46<00:00, 69.32s/it]\n"
     ]
    }
   ],
   "source": [
    "for col in tqdm(['outdoorTemp','outdoorHum','outdoorAtmo','indoorHum','indoorAtmo']):\n",
    "    train_df['avg_'+ str(2) +'_hours_' + col]=0\n",
    "    train_df['max_'+ str(2) +'_hours_' + col]=0\n",
    "    train_df['min_'+ str(2) +'_hours_' + col]=0\n",
    "    #train_df['mad_'+ str(2) +'_hours_' + col]=0\n",
    "    train_df['q1_'+ str(2) +'_hours_' + col]=0\n",
    "    train_df['q3_'+ str(2) +'_hours_' + col]=0\n",
    "    for i in range(0,train_df.shape[0]): #不包含当前样本的，前 2小时的 一些统计值\n",
    "        if i<=60*2:\n",
    "            tmp=train_df[:i][col]\n",
    "        else:\n",
    "            tmp=train_df[i-120:i][col]\n",
    "        train_df['avg_'+ str(2) +'_hours_' + col].loc[i]=tmp.mean()\n",
    "        train_df['max_'+ str(2) +'_hours_' + col].loc[i]=tmp.max()\n",
    "        train_df['min_'+ str(2) +'_hours_' + col].loc[i]=tmp.min()\n",
    "        #train_df['mad_'+ str(2) +'_hours_' + col].loc[i]=tmp.mad()\n",
    "        train_df['q1_'+ str(2) +'_hours_' + col].loc[i]=tmp.quantile(q=0.25)\n",
    "        train_df['q3_'+ str(2) +'_hours_' + col].loc[i]=tmp.quantile(q=0.75)\n",
    "train_df=train_df.fillna(method='bfill')"
   ]
  },
  {
   "cell_type": "code",
   "execution_count": 228,
   "metadata": {
    "ExecuteTime": {
     "end_time": "2020-08-16T08:21:52.117299Z",
     "start_time": "2020-08-16T08:21:44.363184Z"
    }
   },
   "outputs": [
    {
     "name": "stderr",
     "output_type": "stream",
     "text": [
      "100%|████████████████████████████████████████████████████████████████████████████████████| 5/5 [00:07<00:00,  1.55s/it]\n"
     ]
    }
   ],
   "source": [
    "for col in tqdm(['outdoorTemp','outdoorHum','outdoorAtmo','indoorHum','indoorAtmo']):\n",
    "    test_df['avg_'+ str(2) +'_hours_' + col]=0\n",
    "    test_df['max_'+ str(2) +'_hours_' + col]=0\n",
    "    test_df['min_'+ str(2) +'_hours_' + col]=0\n",
    "    test_df['mad_'+ str(2) +'_hours_' + col]=0\n",
    "    test_df['q1_'+ str(2) +'_hours_' + col]=0\n",
    "    test_df['q3_'+ str(2) +'_hours_' + col]=0\n",
    "    for i in range(0,test_df.shape[0]): #不包含当前样本的，前 2小时的 一些统计值\n",
    "        if i<=2*2:\n",
    "            tmp=test_df[:i][col]\n",
    "        else:\n",
    "            tmp=test_df[i-4:i][col]\n",
    "        test_df['avg_'+ str(2) +'_hours_' + col].loc[i]=tmp.mean()\n",
    "        test_df['max_'+ str(2) +'_hours_' + col].loc[i]=tmp.max()\n",
    "        test_df['min_'+ str(2) +'_hours_' + col].loc[i]=tmp.min()\n",
    "        test_df['mad_'+ str(2) +'_hours_' + col].loc[i]=tmp.mad()\n",
    "        test_df['q1_'+ str(2) +'_hours_' + col].loc[i]=tmp.quantile(q=0.25)\n",
    "        test_df['q3_'+ str(2) +'_hours_' + col].loc[i]=tmp.quantile(q=0.75)\n",
    "test_df=test_df.fillna(method='bfill')"
   ]
  },
  {
   "cell_type": "code",
   "execution_count": 229,
   "metadata": {
    "ExecuteTime": {
     "end_time": "2020-08-16T08:21:52.126293Z",
     "start_time": "2020-08-16T08:21:52.122296Z"
    }
   },
   "outputs": [],
   "source": [
    "#添加了5*6=30个特征\n",
    "#'avg_2_hours_outdoorTemp','avg_2_hours_outdoorHum','avg_2_hours_outdoorAtmo',\n",
    "#'avg_2_hours_indoorHum','avg_2_hours_indoorAtmo'...max,mad..."
   ]
  },
  {
   "cell_type": "markdown",
   "metadata": {},
   "source": [
    "#构造同期值(也可以统计多个小时之前的)，一阶差分"
   ]
  },
  {
   "cell_type": "code",
   "execution_count": 230,
   "metadata": {
    "ExecuteTime": {
     "end_time": "2020-08-16T08:21:52.207247Z",
     "start_time": "2020-08-16T08:21:52.128293Z"
    }
   },
   "outputs": [
    {
     "name": "stderr",
     "output_type": "stream",
     "text": [
      "100%|███████████████████████████████████████████████████████████████████████████████████| 5/5 [00:00<00:00, 200.11it/s]\n",
      "100%|███████████████████████████████████████████████████████████████████████████████████| 5/5 [00:00<00:00, 416.91it/s]\n"
     ]
    }
   ],
   "source": [
    "for f2 in tqdm(['outdoorTemp','outdoorHum','outdoorAtmo','indoorHum','indoorAtmo']):\n",
    "    train_df['ago_1hour_'+f2]=train_df[f2].shift(1*60)\n",
    "    train_df['ago_2hour_'+f2]=train_df[f2].shift(2*60)\n",
    "    train_df['ago_3hour_'+f2]=train_df[f2].shift(3*60)\n",
    "for f2 in tqdm(['outdoorTemp','outdoorHum','outdoorAtmo','indoorHum','indoorAtmo']):\n",
    "    test_df['ago_1hour_'+f2]=test_df[f2].shift(1*2)\n",
    "    test_df['ago_2hour_'+f2]=test_df[f2].shift(2*2)\n",
    "    test_df['ago_3hour_'+f2]=test_df[f2].shift(3*2)"
   ]
  },
  {
   "cell_type": "code",
   "execution_count": 231,
   "metadata": {
    "ExecuteTime": {
     "end_time": "2020-08-16T08:21:52.219242Z",
     "start_time": "2020-08-16T08:21:52.209246Z"
    }
   },
   "outputs": [],
   "source": [
    "#'ago_1hour_outdoorTemp','ago_1hour_outdoorHum','ago_1hour_outdoorAtmo','ago_1hour_indoorHum','ago_1hour_indoorAtmo'"
   ]
  },
  {
   "cell_type": "markdown",
   "metadata": {},
   "source": [
    "此过程会产生缺失值"
   ]
  },
  {
   "cell_type": "code",
   "execution_count": 232,
   "metadata": {
    "ExecuteTime": {
     "end_time": "2020-08-16T08:21:52.301193Z",
     "start_time": "2020-08-16T08:21:52.223239Z"
    },
    "scrolled": true
   },
   "outputs": [
    {
     "name": "stderr",
     "output_type": "stream",
     "text": [
      "100%|███████████████████████████████████████████████████████████████████████████████████| 5/5 [00:00<00:00, 147.14it/s]\n",
      "100%|███████████████████████████████████████████████████████████████████████████████████| 5/5 [00:00<00:00, 277.95it/s]\n"
     ]
    }
   ],
   "source": [
    "for f3 in tqdm(['outdoorTemp','outdoorHum','outdoorAtmo','indoorHum','indoorAtmo']):\n",
    "    train_df['ago_1hour_'+f3+'_trend']=train_df[f3]-train_df['ago_1hour_'+f3]\n",
    "    train_df['ago_2hour_'+f3+'_trend']=train_df[f3]-train_df['ago_2hour_'+f3]\n",
    "    train_df['ago_3hour_'+f3+'_trend']=train_df[f3]-train_df['ago_3hour_'+f3]\n",
    "for f3 in tqdm(['outdoorTemp','outdoorHum','outdoorAtmo','indoorHum','indoorAtmo']):\n",
    "    test_df['ago_1hour_'+f3+'_trend']=test_df[f3]-test_df['ago_1hour_'+f3]\n",
    "    test_df['ago_2hour_'+f3+'_trend']=test_df[f3]-test_df['ago_2hour_'+f3]\n",
    "    test_df['ago_3hour_'+f3+'_trend']=test_df[f3]-test_df['ago_3hour_'+f3]"
   ]
  },
  {
   "cell_type": "code",
   "execution_count": 233,
   "metadata": {
    "ExecuteTime": {
     "end_time": "2020-08-16T08:21:52.376150Z",
     "start_time": "2020-08-16T08:21:52.305191Z"
    },
    "scrolled": true
   },
   "outputs": [
    {
     "name": "stdout",
     "output_type": "stream",
     "text": [
      "<class 'pandas.core.frame.DataFrame'>\n",
      "RangeIndex: 24526 entries, 0 to 24525\n",
      "Data columns (total 68 columns):\n",
      " #   Column                       Non-Null Count  Dtype  \n",
      "---  ------                       --------------  -----  \n",
      " 0   time                         24526 non-null  int64  \n",
      " 1   year                         24526 non-null  int64  \n",
      " 2   month                        24526 non-null  int64  \n",
      " 3   day                          24526 non-null  int64  \n",
      " 4   hour                         24526 non-null  int64  \n",
      " 5   min                          24526 non-null  int64  \n",
      " 6   sec                          24526 non-null  int64  \n",
      " 7   outdoorTemp                  24526 non-null  float64\n",
      " 8   outdoorHum                   24526 non-null  float64\n",
      " 9   outdoorAtmo                  24526 non-null  float64\n",
      " 10  indoorHum                    24526 non-null  float64\n",
      " 11  indoorAtmo                   24526 non-null  float64\n",
      " 12  temperature                  24526 non-null  float64\n",
      " 13  avg_2_hours_outdoorTemp      24526 non-null  float64\n",
      " 14  max_2_hours_outdoorTemp      24526 non-null  float64\n",
      " 15  min_2_hours_outdoorTemp      24526 non-null  float64\n",
      " 16  q1_2_hours_outdoorTemp       24526 non-null  float64\n",
      " 17  q3_2_hours_outdoorTemp       24526 non-null  float64\n",
      " 18  avg_2_hours_outdoorHum       24526 non-null  float64\n",
      " 19  max_2_hours_outdoorHum       24526 non-null  float64\n",
      " 20  min_2_hours_outdoorHum       24526 non-null  float64\n",
      " 21  q1_2_hours_outdoorHum        24526 non-null  float64\n",
      " 22  q3_2_hours_outdoorHum        24526 non-null  float64\n",
      " 23  avg_2_hours_outdoorAtmo      24526 non-null  float64\n",
      " 24  max_2_hours_outdoorAtmo      24526 non-null  float64\n",
      " 25  min_2_hours_outdoorAtmo      24526 non-null  float64\n",
      " 26  q1_2_hours_outdoorAtmo       24526 non-null  float64\n",
      " 27  q3_2_hours_outdoorAtmo       24526 non-null  float64\n",
      " 28  avg_2_hours_indoorHum        24526 non-null  float64\n",
      " 29  max_2_hours_indoorHum        24526 non-null  float64\n",
      " 30  min_2_hours_indoorHum        24526 non-null  float64\n",
      " 31  q1_2_hours_indoorHum         24526 non-null  float64\n",
      " 32  q3_2_hours_indoorHum         24526 non-null  float64\n",
      " 33  avg_2_hours_indoorAtmo       24526 non-null  float64\n",
      " 34  max_2_hours_indoorAtmo       24526 non-null  float64\n",
      " 35  min_2_hours_indoorAtmo       24526 non-null  float64\n",
      " 36  q1_2_hours_indoorAtmo        24526 non-null  float64\n",
      " 37  q3_2_hours_indoorAtmo        24526 non-null  float64\n",
      " 38  ago_1hour_outdoorTemp        24466 non-null  float64\n",
      " 39  ago_2hour_outdoorTemp        24406 non-null  float64\n",
      " 40  ago_3hour_outdoorTemp        24346 non-null  float64\n",
      " 41  ago_1hour_outdoorHum         24466 non-null  float64\n",
      " 42  ago_2hour_outdoorHum         24406 non-null  float64\n",
      " 43  ago_3hour_outdoorHum         24346 non-null  float64\n",
      " 44  ago_1hour_outdoorAtmo        24466 non-null  float64\n",
      " 45  ago_2hour_outdoorAtmo        24406 non-null  float64\n",
      " 46  ago_3hour_outdoorAtmo        24346 non-null  float64\n",
      " 47  ago_1hour_indoorHum          24466 non-null  float64\n",
      " 48  ago_2hour_indoorHum          24406 non-null  float64\n",
      " 49  ago_3hour_indoorHum          24346 non-null  float64\n",
      " 50  ago_1hour_indoorAtmo         24466 non-null  float64\n",
      " 51  ago_2hour_indoorAtmo         24406 non-null  float64\n",
      " 52  ago_3hour_indoorAtmo         24346 non-null  float64\n",
      " 53  ago_1hour_outdoorTemp_trend  24466 non-null  float64\n",
      " 54  ago_2hour_outdoorTemp_trend  24406 non-null  float64\n",
      " 55  ago_3hour_outdoorTemp_trend  24346 non-null  float64\n",
      " 56  ago_1hour_outdoorHum_trend   24466 non-null  float64\n",
      " 57  ago_2hour_outdoorHum_trend   24406 non-null  float64\n",
      " 58  ago_3hour_outdoorHum_trend   24346 non-null  float64\n",
      " 59  ago_1hour_outdoorAtmo_trend  24466 non-null  float64\n",
      " 60  ago_2hour_outdoorAtmo_trend  24406 non-null  float64\n",
      " 61  ago_3hour_outdoorAtmo_trend  24346 non-null  float64\n",
      " 62  ago_1hour_indoorHum_trend    24466 non-null  float64\n",
      " 63  ago_2hour_indoorHum_trend    24406 non-null  float64\n",
      " 64  ago_3hour_indoorHum_trend    24346 non-null  float64\n",
      " 65  ago_1hour_indoorAtmo_trend   24466 non-null  float64\n",
      " 66  ago_2hour_indoorAtmo_trend   24406 non-null  float64\n",
      " 67  ago_3hour_indoorAtmo_trend   24346 non-null  float64\n",
      "dtypes: float64(61), int64(7)\n",
      "memory usage: 12.7 MB\n"
     ]
    }
   ],
   "source": [
    "train_df.info()\n",
    "#test_df.info()"
   ]
  },
  {
   "cell_type": "markdown",
   "metadata": {},
   "source": [
    "#特征工程"
   ]
  },
  {
   "cell_type": "code",
   "execution_count": 234,
   "metadata": {
    "ExecuteTime": {
     "end_time": "2020-08-16T08:21:52.410130Z",
     "start_time": "2020-08-16T08:21:52.381147Z"
    }
   },
   "outputs": [],
   "source": [
    "train_df['ratio_outdoorTemp'] = 1 / train_df['outdoorTemp']\n",
    "test_df['ratio_outdoorTemp'] = 1 / test_df['outdoorTemp']\n",
    "train_df['ratio_outdoorHum'] = 1 / train_df['outdoorHum']\n",
    "test_df['ratio_outdoorHum'] = 1 / test_df['outdoorHum']\n",
    "train_df['ratio_outdoorAtmo'] = 1 / train_df['outdoorAtmo']\n",
    "test_df['ratio_outdoorAtmo'] = 1 / test_df['outdoorAtmo']\n",
    "train_df['ratio_indoorHum'] = 1 / train_df['indoorHum']\n",
    "test_df['ratio_indoorHum'] = 1 / test_df['indoorHum']\n",
    "train_df['ratio_indoorAtmo'] = 1 / train_df['indoorAtmo']\n",
    "test_df['ratio_indoorAtmo'] = 1 / test_df['indoorAtmo']"
   ]
  },
  {
   "cell_type": "code",
   "execution_count": null,
   "metadata": {
    "ExecuteTime": {
     "end_time": "2020-08-16T08:15:26.727413Z",
     "start_time": "2020-08-16T08:15:25.045Z"
    }
   },
   "outputs": [],
   "source": [
    "train_df['sqrt_outdoorTemp'] = np.sqrt(train_df['outdoorTemp'])\n",
    "test_df['sqrt_outdoorTemp'] = np.sqrt(test_df['outdoorTemp'])\n",
    "train_df['sqrt_outdoorHum'] = np.sqrt(train_df['outdoorHum'])\n",
    "test_df['sqrt_outdoorHum'] = np.sqrt(test_df['outdoorHum'])\n",
    "train_df['sqrt_outdoorAtmo'] = np.sqrt(train_df['outdoorAtmo'])\n",
    "test_df['sqrt_outdoorAtmo'] = np.sqrt(test_df['outdoorAtmo'])\n",
    "train_df['sqrt_indoorHum'] = np.sqrt(train_df['indoorHum'])\n",
    "test_df['sqrt_indoorHum'] = np.sqrt(test_df['indoorHum'])\n",
    "train_df['sqrt_indoorAtmo'] = np.sqrt(train_df['indoorAtmo'])\n",
    "test_df['sqrt_indoorAtmo'] = np.sqrt(test_df['indoorAtmo'])"
   ]
  },
  {
   "cell_type": "code",
   "execution_count": null,
   "metadata": {
    "ExecuteTime": {
     "end_time": "2020-08-16T08:15:26.729412Z",
     "start_time": "2020-08-16T08:15:25.047Z"
    }
   },
   "outputs": [],
   "source": [
    "#test_df['sqrt_indoorHum'].std()"
   ]
  },
  {
   "cell_type": "code",
   "execution_count": 235,
   "metadata": {
    "ExecuteTime": {
     "end_time": "2020-08-16T08:21:52.492084Z",
     "start_time": "2020-08-16T08:21:52.413128Z"
    }
   },
   "outputs": [],
   "source": [
    "#对训练集和测试集特征进行联合处理\n",
    "data_df = pd.concat([train_df, test_df], axis=0, ignore_index=True)"
   ]
  },
  {
   "cell_type": "code",
   "execution_count": 236,
   "metadata": {
    "ExecuteTime": {
     "end_time": "2020-08-16T08:21:53.076746Z",
     "start_time": "2020-08-16T08:21:52.496079Z"
    }
   },
   "outputs": [
    {
     "name": "stderr",
     "output_type": "stream",
     "text": [
      "100%|████████████████████████████████████████████████████████████████████████████████████| 5/5 [00:00<00:00,  8.89it/s]\n"
     ]
    }
   ],
   "source": [
    "# 基本聚合特征\n",
    "group_feats = []\n",
    "for f in tqdm(['outdoorTemp', 'outdoorHum', 'outdoorAtmo', 'indoorHum', 'indoorAtmo']):\n",
    "    #基于month,day,hour做聚合特征\n",
    "    data_df['MDH_{}_medi'.format(f)] = data_df.groupby(['month', 'day', 'hour'])[f].transform('median')\n",
    "    data_df['MDH_{}_mean'.format(f)] = data_df.groupby(['month', 'day', 'hour'])[f].transform('mean')\n",
    "    data_df['MDH_{}_max'.format(f)] = data_df.groupby(['month', 'day', 'hour'])[f].transform('max')\n",
    "    data_df['MDH_{}_min'.format(f)] = data_df.groupby(['month', 'day', 'hour'])[f].transform('min')\n",
    "    #data_df['MDH_{}_mad'.format(f)] = data_df.groupby(['month', 'day', 'hour'])[f].transform('mad')\n",
    "    #data_df['MDH_{}_skew'.format(f)] = data_df.groupby(['month', 'day', 'hour'])[f].transform('skew')\n",
    "\n",
    "    group_feats.append('MDH_{}_medi'.format(f))\n",
    "    group_feats.append('MDH_{}_mean'.format(f))\n",
    "    group_feats.append('MDH_{}_max'.format(f))\n",
    "    group_feats.append('MDH_{}_min'.format(f))\n",
    "    #group_feats.append('MDH_{}_mad'.format(f))\n",
    "    # group_feats.append('MDH_{}_skew'.format(f))"
   ]
  },
  {
   "cell_type": "code",
   "execution_count": 237,
   "metadata": {
    "ExecuteTime": {
     "end_time": "2020-08-16T08:21:53.691392Z",
     "start_time": "2020-08-16T08:21:53.078744Z"
    }
   },
   "outputs": [
    {
     "name": "stderr",
     "output_type": "stream",
     "text": [
      "100%|████████████████████████████████████████████████████████████████████████████████████| 5/5 [00:00<00:00,  8.37it/s]\n"
     ]
    }
   ],
   "source": [
    "#group_feats = []\n",
    "for f in tqdm(['outdoorTemp', 'outdoorHum', 'outdoorAtmo', 'indoorHum', 'indoorAtmo']):\n",
    "    #直接基于day,hour做聚合特征\n",
    "    data_df['H_{}_medi'.format(f)] = data_df.groupby(['hour'])[f].transform('median')\n",
    "    data_df['H_{}_mean'.format(f)] = data_df.groupby(['hour'])[f].transform('mean')\n",
    "    data_df['H_{}_max'.format(f)] = data_df.groupby(['hour'])[f].transform('max')\n",
    "    data_df['H_{}_min'.format(f)] = data_df.groupby(['hour'])[f].transform('min')\n",
    "    #data_df['H_{}_mad'.format(f)] = data_df.groupby(['hour'])[f].transform('mad')\n",
    "    #data_df['H_{}_skew'.format(f)] = data_df.groupby(['hour'])[f].transform('skew')\n",
    "    \n",
    "    #group_feats.append('H_{}_medi'.format(f))\n",
    "    #group_feats.append('H_{}_mean'.format(f))\n",
    "    #group_feats.append('H_{}_max'.format(f))\n",
    "    #group_feats.append('H_{}_min'.format(f))\n",
    "    #group_feats.append('H_{}_mad'.format(f))\n",
    "    #group_feats.append('H_{}_skew'.format(f))\n"
   ]
  },
  {
   "cell_type": "code",
   "execution_count": null,
   "metadata": {
    "ExecuteTime": {
     "end_time": "2020-08-16T08:15:26.735409Z",
     "start_time": "2020-08-16T08:15:25.062Z"
    },
    "scrolled": false
   },
   "outputs": [],
   "source": [
    "#group_feats"
   ]
  },
  {
   "cell_type": "code",
   "execution_count": 238,
   "metadata": {
    "ExecuteTime": {
     "end_time": "2020-08-16T08:21:55.225645Z",
     "start_time": "2020-08-16T08:21:53.695388Z"
    },
    "scrolled": true
   },
   "outputs": [
    {
     "name": "stderr",
     "output_type": "stream",
     "text": [
      "100%|██████████████████████████████████████████████████████████████████████████████████| 25/25 [00:01<00:00, 20.69it/s]\n"
     ]
    }
   ],
   "source": [
    "# 基本交叉特征\n",
    "for f1 in tqdm(['outdoorTemp','outdoorHum','outdoorAtmo','indoorHum','indoorAtmo']+group_feats):\n",
    "    for f2 in ['outdoorTemp','outdoorHum','outdoorAtmo','indoorHum','indoorAtmo']+group_feats:\n",
    "        if f1 != f2:\n",
    "            colname = '{}_{}_ratio'.format(f1, f2)\n",
    "            data_df[colname] = data_df[f1].values / data_df[f2].values\n",
    "\n",
    "data_df = data_df.fillna(method='bfill')"
   ]
  },
  {
   "cell_type": "code",
   "execution_count": null,
   "metadata": {
    "ExecuteTime": {
     "end_time": "2020-08-16T08:15:26.739407Z",
     "start_time": "2020-08-16T08:15:25.068Z"
    }
   },
   "outputs": [],
   "source": [
    "data_df.shape"
   ]
  },
  {
   "cell_type": "code",
   "execution_count": 239,
   "metadata": {
    "ExecuteTime": {
     "end_time": "2020-08-16T08:22:01.641820Z",
     "start_time": "2020-08-16T08:21:55.227646Z"
    },
    "scrolled": true
   },
   "outputs": [
    {
     "name": "stderr",
     "output_type": "stream",
     "text": [
      "100%|██████████████████████████████████████████████████████████████████████████████████| 30/30 [00:00<00:00, 38.98it/s]\n",
      "100%|██████████████████████████████████████████████████████████████████████████████████| 30/30 [00:00<00:00, 32.14it/s]\n",
      "100%|██████████████████████████████████████████████████████████████████████████████████| 30/30 [00:01<00:00, 29.90it/s]\n",
      "100%|██████████████████████████████████████████████████████████████████████████████████| 30/30 [00:00<00:00, 31.80it/s]\n",
      "100%|██████████████████████████████████████████████████████████████████████████████████| 30/30 [00:00<00:00, 30.05it/s]\n"
     ]
    }
   ],
   "source": [
    "# 历史信息提取 ，提前过去5天内的数据,可以改变窗口大小\n",
    "data_df['dt'] = data_df['day'].values + (data_df['month'].values - 3) * 31\n",
    "\n",
    "for col in ['outdoorTemp','outdoorHum','outdoorAtmo','indoorHum','indoorAtmo']:\n",
    "    tmp_df = pd.DataFrame()\n",
    "    for t in tqdm(range(15, 45)):\n",
    "        f1 = data_df[(data_df['dt']<t) & (data_df['dt']>=t-5)]\n",
    "        tmp1 = f1.groupby(['hour'])[col].agg({'mean'}).reset_index()\n",
    "        tmp1.columns = ['hour','hit_{}_mean'.format(col)]\n",
    "        tmp1['dt'] = t\n",
    "        tmp_df = tmp_df.append(tmp1)\n",
    "    \n",
    "    data_df = data_df.merge(tmp_df, on=['dt','hour'], how='left')\n",
    "#增加了6个特征 hit_outdoorTemp_mean,hit_outdoorHum_mean...\n",
    "\n",
    "data_df = data_df.fillna(method='bfill')    "
   ]
  },
  {
   "cell_type": "code",
   "execution_count": null,
   "metadata": {
    "ExecuteTime": {
     "end_time": "2020-08-16T08:15:26.742405Z",
     "start_time": "2020-08-16T08:15:25.076Z"
    }
   },
   "outputs": [],
   "source": [
    "for col in ['outdoorTemp','outdoorHum','outdoorAtmo','indoorHum','indoorAtmo']:\n",
    "    tmp_df = pd.DataFrame()\n",
    "    for t in tqdm(range(15, 45)):\n",
    "        f1 = data_df[(data_df['dt']<t) & (data_df['dt']>=t-5)]\n",
    "        tmp1 = f1.groupby(['hour'])[col].quantile(q=0.25, axis=1).reset_index()\n",
    "        tmp1.columns = ['hour','hit_{}_quantile25'.format(col)]\n",
    "        tmp1['dt'] = t\n",
    "        tmp_df = tmp_df.append(tmp1)\n",
    "    \n",
    "    data_df = data_df.merge(tmp_df, on=['dt','hour'], how='left')\n",
    "    \n",
    "for col in ['outdoorTemp','outdoorHum','outdoorAtmo','indoorHum','indoorAtmo']:\n",
    "    tmp_df = pd.DataFrame()\n",
    "    for t in tqdm(range(15, 45)):\n",
    "        f1 = data_df[(data_df['dt']<t) & (data_df['dt']>=t-5)]\n",
    "        tmp1 = f1.groupby(['hour'])[col].quantile(q=0.75, axis=1).reset_index()\n",
    "        tmp1.columns = ['hour','hit_{}_quantile75'.format(col)]\n",
    "        tmp1['dt'] = t\n",
    "        tmp_df = tmp_df.append(tmp1)\n",
    "    \n",
    "    data_df = data_df.merge(tmp_df, on=['dt','hour'], how='left')"
   ]
  },
  {
   "cell_type": "code",
   "execution_count": 240,
   "metadata": {
    "ExecuteTime": {
     "end_time": "2020-08-16T08:22:01.655814Z",
     "start_time": "2020-08-16T08:22:01.644820Z"
    }
   },
   "outputs": [
    {
     "data": {
      "text/plain": [
       "(24932, 724)"
      ]
     },
     "execution_count": 240,
     "metadata": {},
     "output_type": "execute_result"
    }
   ],
   "source": [
    "data_df.shape #增加了...个特征\n",
    "#data_df.hit_outdoorTemp_mean"
   ]
  },
  {
   "cell_type": "code",
   "execution_count": 241,
   "metadata": {
    "ExecuteTime": {
     "end_time": "2020-08-16T08:23:26.754451Z",
     "start_time": "2020-08-16T08:22:01.658812Z"
    }
   },
   "outputs": [
    {
     "name": "stderr",
     "output_type": "stream",
     "text": [
      "100%|████████████████████████████████████████████████████████████████████████████████████| 5/5 [00:18<00:00,  3.63s/it]\n",
      "100%|████████████████████████████████████████████████████████████████████████████████████| 5/5 [00:21<00:00,  4.22s/it]\n",
      "100%|████████████████████████████████████████████████████████████████████████████████████| 5/5 [00:21<00:00,  4.37s/it]\n",
      "100%|████████████████████████████████████████████████████████████████████████████████████| 5/5 [00:23<00:00,  4.72s/it]\n"
     ]
    }
   ],
   "source": [
    "# 离散化 --分桶\n",
    "#avg_2_hours_outdoorTemp\n",
    "#for f1 in ['outdoorTemp','outdoorHum','outdoorAtmo','indoorHum','indoorAtmo']:\n",
    "#    for f2 in ['max_2_hours_','min_2_hours_','mad_2_hours_','avg_2_hours_','q1_2_hours_','q3_2_hours_']:\n",
    "#        f=f2+f1\n",
    "#        data_df[f+'_20_bin'] = pd.cut(data_df[f], 20, duplicates='drop').apply(lambda x:x.left).astype(int)\n",
    "#        data_df[f+'_50_bin'] = pd.cut(data_df[f], 50, duplicates='drop').apply(lambda x:x.left).astype(int)\n",
    "#        data_df[f+'_100_bin'] = pd.cut(data_df[f], 100, duplicates='drop').apply(lambda x:x.left).astype(int)\n",
    "#        data_df[f+'_200_bin'] = pd.cut(data_df[f], 200, duplicates='drop').apply(lambda x:x.left).astype(int)\n",
    "\n",
    "#增加 30*4=120个特征       \n",
    "\n",
    "for f in ['outdoorTemp','outdoorHum','outdoorAtmo','indoorHum','indoorAtmo']:\n",
    "    data_df[f+'_20_bin'] = pd.cut(data_df[f], 20, duplicates='drop').apply(lambda x:x.left).astype(int)\n",
    "    data_df[f+'_50_bin'] = pd.cut(data_df[f], 50, duplicates='drop').apply(lambda x:x.left).astype(int)\n",
    "    data_df[f+'_100_bin'] = pd.cut(data_df[f], 100, duplicates='drop').apply(lambda x:x.left).astype(int)\n",
    "    data_df[f+'_200_bin'] = pd.cut(data_df[f], 200, duplicates='drop').apply(lambda x:x.left).astype(int)\n",
    "    \n",
    "#分桶后 再做聚合    \n",
    "for f1 in tqdm(['outdoorTemp_20_bin','outdoorHum_20_bin','outdoorAtmo_20_bin','indoorHum_20_bin','indoorAtmo_20_bin']):\n",
    "    for f2 in ['outdoorTemp','outdoorHum','outdoorAtmo','indoorHum','indoorAtmo']:\n",
    "        data_df['{}_{}_medi'.format(f1,f2)] = data_df.groupby([f1])[f2].transform('median')\n",
    "        data_df['{}_{}_mean'.format(f1,f2)] = data_df.groupby([f1])[f2].transform('mean')\n",
    "        data_df['{}_{}_max'.format(f1,f2)] = data_df.groupby([f1])[f2].transform('max')\n",
    "        data_df['{}_{}_min'.format(f1,f2)] = data_df.groupby([f1])[f2].transform('min')\n",
    "        #data_df['{}_{}_mad'.format(f1,f2)] = data_df.groupby([f1])[f2].transform('mad')\n",
    "       \n",
    "        \n",
    "for f1 in tqdm(['outdoorTemp_50_bin','outdoorHum_50_bin','outdoorAtmo_50_bin','indoorHum_50_bin','indoorAtmo_50_bin']):\n",
    "    for f2 in ['outdoorTemp','outdoorHum','outdoorAtmo','indoorHum','indoorAtmo']:\n",
    "        data_df['{}_{}_medi'.format(f1,f2)] = data_df.groupby([f1])[f2].transform('median')\n",
    "        data_df['{}_{}_mean'.format(f1,f2)] = data_df.groupby([f1])[f2].transform('mean')\n",
    "        data_df['{}_{}_max'.format(f1,f2)] = data_df.groupby([f1])[f2].transform('max')\n",
    "        data_df['{}_{}_min'.format(f1,f2)] = data_df.groupby([f1])[f2].transform('min')\n",
    "        #data_df['{}_{}_mad'.format(f1,f2)] = data_df.groupby([f1])[f2].transform('mad')\n",
    "        \n",
    "for f1 in tqdm(['outdoorTemp_100_bin','outdoorHum_100_bin','outdoorAtmo_100_bin','indoorHum_100_bin','indoorAtmo_100_bin']):\n",
    "    for f2 in ['outdoorTemp','outdoorHum','outdoorAtmo','indoorHum','indoorAtmo']:\n",
    "        data_df['{}_{}_medi'.format(f1,f2)] = data_df.groupby([f1])[f2].transform('median')\n",
    "        data_df['{}_{}_mean'.format(f1,f2)] = data_df.groupby([f1])[f2].transform('mean')\n",
    "        data_df['{}_{}_max'.format(f1,f2)] = data_df.groupby([f1])[f2].transform('max')\n",
    "        data_df['{}_{}_min'.format(f1,f2)] = data_df.groupby([f1])[f2].transform('min')\n",
    "        #data_df['{}_{}_mad'.format(f1,f2)] = data_df.groupby([f1])[f2].transform('mad')\n",
    "        \n",
    "for f1 in tqdm(['outdoorTemp_200_bin','outdoorHum_200_bin','outdoorAtmo_200_bin','indoorHum_200_bin','indoorAtmo_200_bin']):\n",
    "    for f2 in ['outdoorTemp','outdoorHum','outdoorAtmo','indoorHum','indoorAtmo']:\n",
    "        data_df['{}_{}_medi'.format(f1,f2)] = data_df.groupby([f1])[f2].transform('median')\n",
    "        data_df['{}_{}_mean'.format(f1,f2)] = data_df.groupby([f1])[f2].transform('mean')\n",
    "        data_df['{}_{}_max'.format(f1,f2)] = data_df.groupby([f1])[f2].transform('max')\n",
    "        data_df['{}_{}_min'.format(f1,f2)] = data_df.groupby([f1])[f2].transform('min')\n",
    "        #data_df['{}_{}_mad'.format(f1,f2)] = data_df.groupby([f1])[f2].transform('mad')\n",
    "        "
   ]
  },
  {
   "cell_type": "code",
   "execution_count": 242,
   "metadata": {
    "ExecuteTime": {
     "end_time": "2020-08-16T08:23:26.762447Z",
     "start_time": "2020-08-16T08:23:26.756450Z"
    }
   },
   "outputs": [
    {
     "data": {
      "text/plain": [
       "(24932, 1144)"
      ]
     },
     "execution_count": 242,
     "metadata": {},
     "output_type": "execute_result"
    }
   ],
   "source": [
    "data_df.shape"
   ]
  },
  {
   "cell_type": "markdown",
   "metadata": {},
   "source": [
    "#特征选择,filter ，方差选择法?"
   ]
  },
  {
   "cell_type": "code",
   "execution_count": 243,
   "metadata": {
    "ExecuteTime": {
     "end_time": "2020-08-16T08:23:27.486607Z",
     "start_time": "2020-08-16T08:23:26.764446Z"
    },
    "scrolled": true
   },
   "outputs": [
    {
     "name": "stdout",
     "output_type": "stream",
     "text": [
      "year 0.0\n",
      "ratio_outdoorTemp 0.015279614267867284\n",
      "ratio_outdoorHum 0.0046172901199715045\n",
      "ratio_outdoorAtmo 8.474586787010968e-06\n",
      "ratio_indoorHum 0.003982075034945189\n",
      "ratio_indoorAtmo 2.203137375735311e-05\n",
      "outdoorTemp_outdoorAtmo_ratio 0.004498830402544785\n",
      "outdoorTemp_indoorAtmo_ratio 0.004517986210666131\n",
      "outdoorTemp_MDH_outdoorTemp_medi_ratio 0.017422238077252888\n",
      "outdoorTemp_MDH_outdoorTemp_mean_ratio 0.01646813938874495\n",
      "outdoorTemp_MDH_outdoorTemp_max_ratio 0.02267273496778902\n",
      "outdoorTemp_MDH_outdoorTemp_min_ratio 0.02539636287166447\n",
      "outdoorTemp_MDH_outdoorAtmo_medi_ratio 0.004497859721774156\n",
      "outdoorTemp_MDH_outdoorAtmo_mean_ratio 0.004498334814176201\n",
      "outdoorTemp_MDH_outdoorAtmo_max_ratio 0.0044899958663668724\n",
      "outdoorTemp_MDH_outdoorAtmo_min_ratio 0.004500045433982628\n",
      "outdoorTemp_MDH_indoorAtmo_medi_ratio 0.004502412557727024\n",
      "outdoorTemp_MDH_indoorAtmo_mean_ratio 0.0045024762936032225\n",
      "outdoorTemp_MDH_indoorAtmo_max_ratio 0.004491440086637551\n",
      "outdoorTemp_MDH_indoorAtmo_min_ratio 0.004616684006770648\n",
      "outdoorHum_outdoorAtmo_ratio 0.016392333889919942\n",
      "outdoorHum_indoorHum_ratio 0.04755806103880138\n",
      "outdoorHum_indoorAtmo_ratio 0.01649002484416846\n",
      "outdoorHum_MDH_outdoorHum_medi_ratio 0.023811349681523986\n",
      "outdoorHum_MDH_outdoorHum_mean_ratio 0.02274196691132568\n",
      "outdoorHum_MDH_outdoorHum_max_ratio 0.033725474297060735\n",
      "outdoorHum_MDH_outdoorHum_min_ratio 0.03895057210864572\n",
      "outdoorHum_MDH_outdoorAtmo_medi_ratio 0.01638434110443176\n",
      "outdoorHum_MDH_outdoorAtmo_mean_ratio 0.016389863623447427\n",
      "outdoorHum_MDH_outdoorAtmo_max_ratio 0.016375554395645538\n",
      "outdoorHum_MDH_outdoorAtmo_min_ratio 0.01650725149849206\n",
      "outdoorHum_MDH_indoorAtmo_medi_ratio 0.016412748722901545\n",
      "outdoorHum_MDH_indoorAtmo_mean_ratio 0.016413713270954075\n",
      "outdoorHum_MDH_indoorAtmo_max_ratio 0.016389894891168235\n",
      "outdoorHum_MDH_indoorAtmo_min_ratio 0.017781394686392206\n",
      "outdoorAtmo_indoorAtmo_ratio 0.020709966659449526\n",
      "outdoorAtmo_MDH_outdoorAtmo_medi_ratio 0.0035156444207890937\n",
      "outdoorAtmo_MDH_outdoorAtmo_mean_ratio 0.00307902211094683\n",
      "outdoorAtmo_MDH_outdoorAtmo_max_ratio 0.006253695068385256\n",
      "outdoorAtmo_MDH_outdoorAtmo_min_ratio 0.008351822996800998\n",
      "outdoorAtmo_MDH_indoorAtmo_medi_ratio 0.008234066529454534\n",
      "outdoorAtmo_MDH_indoorAtmo_mean_ratio 0.008243311627147582\n",
      "outdoorAtmo_MDH_indoorAtmo_max_ratio 0.0037879939203760054\n",
      "indoorHum_outdoorHum_ratio 0.04972222382510233\n",
      "indoorHum_outdoorAtmo_ratio 0.014043107439922252\n",
      "indoorHum_indoorAtmo_ratio 0.014143774209181536\n",
      "indoorHum_MDH_outdoorHum_max_ratio 0.040207802039539414\n",
      "indoorHum_MDH_outdoorAtmo_medi_ratio 0.014036029600180775\n",
      "indoorHum_MDH_outdoorAtmo_mean_ratio 0.01404028035699597\n",
      "indoorHum_MDH_outdoorAtmo_max_ratio 0.01403176577931057\n",
      "indoorHum_MDH_outdoorAtmo_min_ratio 0.014140117365161044\n",
      "indoorHum_MDH_indoorHum_medi_ratio 0.021805840892379948\n",
      "indoorHum_MDH_indoorHum_mean_ratio 0.020595527728254768\n",
      "indoorHum_MDH_indoorHum_max_ratio 0.034136888500556295\n",
      "indoorHum_MDH_indoorHum_min_ratio 0.03907032975868739\n",
      "indoorHum_MDH_indoorAtmo_medi_ratio 0.01406375355380905\n",
      "indoorHum_MDH_indoorAtmo_mean_ratio 0.014064453110382803\n",
      "indoorHum_MDH_indoorAtmo_max_ratio 0.01404195446390037\n",
      "indoorHum_MDH_indoorAtmo_min_ratio 0.015446592213669116\n",
      "indoorAtmo_outdoorAtmo_ratio 0.009238752911775915\n",
      "indoorAtmo_MDH_outdoorAtmo_medi_ratio 0.008430353796373573\n",
      "indoorAtmo_MDH_outdoorAtmo_mean_ratio 0.008626880721283333\n",
      "indoorAtmo_MDH_outdoorAtmo_max_ratio 0.009981772805297735\n",
      "indoorAtmo_MDH_outdoorAtmo_min_ratio 0.012205076168173531\n",
      "indoorAtmo_MDH_indoorAtmo_medi_ratio 0.008398270529960053\n",
      "indoorAtmo_MDH_indoorAtmo_mean_ratio 0.008398045708105824\n",
      "indoorAtmo_MDH_indoorAtmo_max_ratio 0.008366730776812123\n",
      "MDH_outdoorTemp_medi_outdoorTemp_ratio 0.017409294261145073\n",
      "MDH_outdoorTemp_medi_outdoorAtmo_ratio 0.00449371810076682\n",
      "MDH_outdoorTemp_medi_indoorAtmo_ratio 0.004513024384945756\n",
      "MDH_outdoorTemp_medi_MDH_outdoorTemp_mean_ratio 0.005567428939511681\n",
      "MDH_outdoorTemp_medi_MDH_outdoorTemp_max_ratio 0.018728540418394668\n",
      "MDH_outdoorTemp_medi_MDH_outdoorTemp_min_ratio 0.01981469202743973\n",
      "MDH_outdoorTemp_medi_MDH_outdoorAtmo_medi_ratio 0.00449290520551122\n",
      "MDH_outdoorTemp_medi_MDH_outdoorAtmo_mean_ratio 0.00449332570507877\n",
      "MDH_outdoorTemp_medi_MDH_outdoorAtmo_max_ratio 0.004484928379912082\n",
      "MDH_outdoorTemp_medi_MDH_outdoorAtmo_min_ratio 0.0044948694527261746\n",
      "MDH_outdoorTemp_medi_MDH_indoorAtmo_medi_ratio 0.004497438534576807\n",
      "MDH_outdoorTemp_medi_MDH_indoorAtmo_mean_ratio 0.00449749693000928\n",
      "MDH_outdoorTemp_medi_MDH_indoorAtmo_max_ratio 0.0044864750250788584\n",
      "MDH_outdoorTemp_medi_MDH_indoorAtmo_min_ratio 0.004608690536146802\n",
      "MDH_outdoorTemp_mean_outdoorTemp_ratio 0.01652843250167412\n",
      "MDH_outdoorTemp_mean_outdoorAtmo_ratio 0.004488388647079898\n",
      "MDH_outdoorTemp_mean_indoorAtmo_ratio 0.004507721226778308\n",
      "MDH_outdoorTemp_mean_MDH_outdoorTemp_medi_ratio 0.005610310114420535\n",
      "MDH_outdoorTemp_mean_MDH_outdoorTemp_max_ratio 0.016376755184127016\n",
      "MDH_outdoorTemp_mean_MDH_outdoorTemp_min_ratio 0.018528295299468825\n",
      "MDH_outdoorTemp_mean_MDH_outdoorAtmo_medi_ratio 0.004487517901311819\n",
      "MDH_outdoorTemp_mean_MDH_outdoorAtmo_mean_ratio 0.00448799258387081\n",
      "MDH_outdoorTemp_mean_MDH_outdoorAtmo_max_ratio 0.004479695948974504\n",
      "MDH_outdoorTemp_mean_MDH_outdoorAtmo_min_ratio 0.00448966355476063\n",
      "MDH_outdoorTemp_mean_MDH_indoorAtmo_medi_ratio 0.004492069126284088\n",
      "MDH_outdoorTemp_mean_MDH_indoorAtmo_mean_ratio 0.004492132109050157\n",
      "MDH_outdoorTemp_mean_MDH_indoorAtmo_max_ratio 0.004481097626166548\n",
      "MDH_outdoorTemp_mean_MDH_indoorAtmo_min_ratio 0.004606427120261467\n",
      "MDH_outdoorTemp_max_outdoorTemp_ratio 0.025230700710816286\n",
      "MDH_outdoorTemp_max_outdoorAtmo_ratio 0.004654826122146384\n",
      "MDH_outdoorTemp_max_indoorAtmo_ratio 0.004673819360885145\n",
      "MDH_outdoorTemp_max_MDH_outdoorTemp_medi_ratio 0.020546114370233376\n",
      "MDH_outdoorTemp_max_MDH_outdoorTemp_mean_ratio 0.01780526263311058\n",
      "MDH_outdoorTemp_max_MDH_outdoorTemp_min_ratio 0.035569712560119496\n",
      "MDH_outdoorTemp_max_MDH_outdoorAtmo_medi_ratio 0.004653950268168689\n",
      "MDH_outdoorTemp_max_MDH_outdoorAtmo_mean_ratio 0.004654425195221655\n",
      "MDH_outdoorTemp_max_MDH_outdoorAtmo_max_ratio 0.004645260587882948\n",
      "MDH_outdoorTemp_max_MDH_outdoorAtmo_min_ratio 0.00465652275734706\n",
      "MDH_outdoorTemp_max_MDH_indoorAtmo_medi_ratio 0.004658385446803238\n",
      "MDH_outdoorTemp_max_MDH_indoorAtmo_mean_ratio 0.004658458807213436\n",
      "MDH_outdoorTemp_max_MDH_indoorAtmo_max_ratio 0.004647274035003393\n",
      "MDH_outdoorTemp_max_MDH_indoorAtmo_min_ratio 0.004776325069859111\n",
      "MDH_outdoorTemp_min_outdoorTemp_ratio 0.02276350657829989\n",
      "MDH_outdoorTemp_min_outdoorAtmo_ratio 0.004299460594330892\n",
      "MDH_outdoorTemp_min_indoorAtmo_ratio 0.004319302817951773\n",
      "MDH_outdoorTemp_min_MDH_outdoorTemp_medi_ratio 0.018012905601545597\n",
      "MDH_outdoorTemp_min_MDH_outdoorTemp_mean_ratio 0.016891569359423635\n",
      "MDH_outdoorTemp_min_MDH_outdoorTemp_max_ratio 0.03003169350972142\n",
      "MDH_outdoorTemp_min_MDH_outdoorAtmo_medi_ratio 0.004298584280004703\n",
      "MDH_outdoorTemp_min_MDH_outdoorAtmo_mean_ratio 0.0042990676318092795\n",
      "MDH_outdoorTemp_min_MDH_outdoorAtmo_max_ratio 0.004292242462003089\n",
      "MDH_outdoorTemp_min_MDH_outdoorAtmo_min_ratio 0.004300581644297468\n",
      "MDH_outdoorTemp_min_MDH_indoorAtmo_medi_ratio 0.0043033064104248345\n",
      "MDH_outdoorTemp_min_MDH_indoorAtmo_mean_ratio 0.004303356569029042\n",
      "MDH_outdoorTemp_min_MDH_indoorAtmo_max_ratio 0.00429246036688752\n",
      "MDH_outdoorTemp_min_MDH_indoorAtmo_min_ratio 0.004415704373923033\n",
      "MDH_outdoorHum_medi_outdoorHum_ratio 0.024244084563084613\n",
      "MDH_outdoorHum_medi_outdoorAtmo_ratio 0.016362702769843664\n",
      "MDH_outdoorHum_medi_indoorHum_ratio 0.049756035137407714\n",
      "MDH_outdoorHum_medi_indoorAtmo_ratio 0.016458863083309537\n",
      "MDH_outdoorHum_medi_MDH_outdoorHum_mean_ratio 0.007124470194291521\n",
      "MDH_outdoorHum_medi_MDH_outdoorHum_max_ratio 0.028013881478964334\n",
      "MDH_outdoorHum_medi_MDH_outdoorHum_min_ratio 0.0328764675055725\n",
      "MDH_outdoorHum_medi_MDH_outdoorAtmo_medi_ratio 0.0163549414030045\n",
      "MDH_outdoorHum_medi_MDH_outdoorAtmo_mean_ratio 0.01636041212346661\n",
      "MDH_outdoorHum_medi_MDH_outdoorAtmo_max_ratio 0.016346257457078746\n",
      "MDH_outdoorHum_medi_MDH_outdoorAtmo_min_ratio 0.01647777868802958\n",
      "MDH_outdoorHum_medi_MDH_indoorHum_medi_ratio 0.04584838227788238\n",
      "MDH_outdoorHum_medi_MDH_indoorHum_mean_ratio 0.04569192731510283\n",
      "MDH_outdoorHum_medi_MDH_indoorHum_min_ratio 0.047543572839157826\n",
      "MDH_outdoorHum_medi_MDH_indoorAtmo_medi_ratio 0.016383381455659932\n",
      "MDH_outdoorHum_medi_MDH_indoorAtmo_mean_ratio 0.016384501882856953\n",
      "MDH_outdoorHum_medi_MDH_indoorAtmo_max_ratio 0.016360652354812256\n",
      "MDH_outdoorHum_medi_MDH_indoorAtmo_min_ratio 0.017800566735809657\n",
      "MDH_outdoorHum_mean_outdoorHum_ratio 0.02304483979340422\n",
      "MDH_outdoorHum_mean_outdoorAtmo_ratio 0.01633029314328496\n",
      "MDH_outdoorHum_mean_indoorHum_ratio 0.04887229223831767\n",
      "MDH_outdoorHum_mean_indoorAtmo_ratio 0.016425659418901742\n",
      "MDH_outdoorHum_mean_MDH_outdoorHum_medi_ratio 0.0071150084139524564\n",
      "MDH_outdoorHum_mean_MDH_outdoorHum_max_ratio 0.02633917396797044\n",
      "MDH_outdoorHum_mean_MDH_outdoorHum_min_ratio 0.03003210248202834\n",
      "MDH_outdoorHum_mean_MDH_outdoorAtmo_medi_ratio 0.016322455249588953\n",
      "MDH_outdoorHum_mean_MDH_outdoorAtmo_mean_ratio 0.016327993263473513\n",
      "MDH_outdoorHum_mean_MDH_outdoorAtmo_max_ratio 0.016314021838016765\n",
      "MDH_outdoorHum_mean_MDH_outdoorAtmo_min_ratio 0.016445572354693048\n",
      "MDH_outdoorHum_mean_MDH_indoorHum_medi_ratio 0.045157929437314864\n",
      "MDH_outdoorHum_mean_MDH_indoorHum_mean_ratio 0.044734199171071624\n",
      "MDH_outdoorHum_mean_MDH_indoorHum_min_ratio 0.0461579623722081\n",
      "MDH_outdoorHum_mean_MDH_indoorAtmo_medi_ratio 0.016350892096234887\n",
      "MDH_outdoorHum_mean_MDH_indoorAtmo_mean_ratio 0.016351852380310845\n",
      "MDH_outdoorHum_mean_MDH_indoorAtmo_max_ratio 0.016328103226869006\n",
      "MDH_outdoorHum_mean_MDH_indoorAtmo_min_ratio 0.017722813937189514\n",
      "MDH_outdoorHum_max_outdoorHum_ratio 0.03977778551476415\n",
      "MDH_outdoorHum_max_outdoorAtmo_ratio 0.01574820834690136\n",
      "MDH_outdoorHum_max_indoorHum_ratio 0.043615654858822364\n",
      "MDH_outdoorHum_max_indoorAtmo_ratio 0.01584873950667799\n",
      "MDH_outdoorHum_max_MDH_outdoorHum_medi_ratio 0.03218017035877841\n",
      "MDH_outdoorHum_max_MDH_outdoorHum_mean_ratio 0.02999379678071748\n",
      "MDH_outdoorHum_max_MDH_outdoorAtmo_medi_ratio 0.01573994054269379\n",
      "MDH_outdoorHum_max_MDH_outdoorAtmo_mean_ratio 0.015745715180779774\n",
      "MDH_outdoorHum_max_MDH_outdoorAtmo_max_ratio 0.015730984079455692\n",
      "MDH_outdoorHum_max_MDH_outdoorAtmo_min_ratio 0.015865413887930495\n",
      "MDH_outdoorHum_max_MDH_indoorHum_medi_ratio 0.03938708717122895\n",
      "MDH_outdoorHum_max_MDH_indoorHum_mean_ratio 0.03748686196281274\n",
      "MDH_outdoorHum_max_MDH_indoorHum_max_ratio 0.048197329949588745\n",
      "MDH_outdoorHum_max_MDH_indoorAtmo_medi_ratio 0.01576822625891923\n",
      "MDH_outdoorHum_max_MDH_indoorAtmo_mean_ratio 0.015769439467988797\n",
      "MDH_outdoorHum_max_MDH_indoorAtmo_max_ratio 0.015745770112189392\n",
      "MDH_outdoorHum_max_MDH_indoorAtmo_min_ratio 0.01729077407021885\n",
      "MDH_outdoorHum_min_outdoorHum_ratio 0.03269960550207278\n",
      "MDH_outdoorHum_min_outdoorAtmo_ratio 0.016815848387007667\n",
      "MDH_outdoorHum_min_indoorAtmo_ratio 0.016906751781282592\n",
      "MDH_outdoorHum_min_MDH_outdoorHum_medi_ratio 0.027709638681047196\n",
      "MDH_outdoorHum_min_MDH_outdoorHum_mean_ratio 0.025808153845824425\n",
      "MDH_outdoorHum_min_MDH_outdoorHum_max_ratio 0.04665243673963201\n",
      "MDH_outdoorHum_min_MDH_outdoorAtmo_medi_ratio 0.016808177063767655\n",
      "MDH_outdoorHum_min_MDH_outdoorAtmo_mean_ratio 0.0168136835839091\n",
      "MDH_outdoorHum_min_MDH_outdoorAtmo_max_ratio 0.01679853894400639\n",
      "MDH_outdoorHum_min_MDH_outdoorAtmo_min_ratio 0.016928627273103854\n",
      "MDH_outdoorHum_min_MDH_indoorAtmo_medi_ratio 0.01683680992252313\n",
      "MDH_outdoorHum_min_MDH_indoorAtmo_mean_ratio 0.016837513662310635\n",
      "MDH_outdoorHum_min_MDH_indoorAtmo_max_ratio 0.016813596462419023\n",
      "MDH_outdoorHum_min_MDH_indoorAtmo_min_ratio 0.01808463125549631\n",
      "MDH_outdoorAtmo_medi_outdoorAtmo_ratio 0.0036767297893347717\n",
      "MDH_outdoorAtmo_medi_indoorAtmo_ratio 0.02019950556551166\n",
      "MDH_outdoorAtmo_medi_MDH_outdoorAtmo_mean_ratio 0.0018078437762913716\n",
      "MDH_outdoorAtmo_medi_MDH_outdoorAtmo_max_ratio 0.00539630015436421\n",
      "MDH_outdoorAtmo_medi_MDH_outdoorAtmo_min_ratio 0.008809470594719555\n",
      "MDH_outdoorAtmo_medi_MDH_indoorAtmo_medi_ratio 0.0074372255777792355\n",
      "MDH_outdoorAtmo_medi_MDH_indoorAtmo_mean_ratio 0.007445292553646366\n",
      "MDH_outdoorAtmo_medi_MDH_indoorAtmo_max_ratio 0.0014032764136812466\n",
      "MDH_outdoorAtmo_mean_outdoorAtmo_ratio 0.0031216001846905957\n",
      "MDH_outdoorAtmo_mean_indoorAtmo_ratio 0.02028028574297899\n",
      "MDH_outdoorAtmo_mean_MDH_outdoorAtmo_medi_ratio 0.0017645116230919874\n",
      "MDH_outdoorAtmo_mean_MDH_outdoorAtmo_max_ratio 0.005486047696180416\n",
      "MDH_outdoorAtmo_mean_MDH_outdoorAtmo_min_ratio 0.007715545687379345\n",
      "MDH_outdoorAtmo_mean_MDH_indoorAtmo_medi_ratio 0.007647723239025298\n",
      "MDH_outdoorAtmo_mean_MDH_indoorAtmo_mean_ratio 0.007657665503064712\n",
      "MDH_outdoorAtmo_mean_MDH_indoorAtmo_max_ratio 0.002266505387610533\n",
      "MDH_outdoorAtmo_max_outdoorAtmo_ratio 0.006745970729013741\n",
      "MDH_outdoorAtmo_max_indoorAtmo_ratio 0.021218144127400945\n",
      "MDH_outdoorAtmo_max_MDH_outdoorAtmo_medi_ratio 0.00584296061123017\n",
      "MDH_outdoorAtmo_max_MDH_outdoorAtmo_mean_ratio 0.005898335876754032\n",
      "MDH_outdoorAtmo_max_MDH_outdoorAtmo_min_ratio 0.010591082001181574\n",
      "MDH_outdoorAtmo_max_MDH_indoorAtmo_medi_ratio 0.009553273525512008\n",
      "MDH_outdoorAtmo_max_MDH_indoorAtmo_mean_ratio 0.009566102247247932\n",
      "MDH_outdoorAtmo_max_MDH_indoorAtmo_max_ratio 0.005924043320529379\n",
      "MDH_outdoorAtmo_min_outdoorAtmo_ratio 0.00784621202769481\n",
      "MDH_outdoorAtmo_min_indoorAtmo_ratio 0.021664401525497052\n",
      "MDH_outdoorAtmo_min_MDH_outdoorAtmo_medi_ratio 0.0082776283332078\n",
      "MDH_outdoorAtmo_min_MDH_outdoorAtmo_mean_ratio 0.0072918352674671205\n",
      "MDH_outdoorAtmo_min_MDH_outdoorAtmo_max_ratio 0.009870131722781127\n",
      "MDH_outdoorAtmo_min_MDH_indoorAtmo_medi_ratio 0.011043205103910924\n",
      "MDH_outdoorAtmo_min_MDH_indoorAtmo_mean_ratio 0.01105725784183718\n",
      "MDH_outdoorAtmo_min_MDH_indoorAtmo_max_ratio 0.008422738515784048\n",
      "MDH_indoorHum_medi_outdoorAtmo_ratio 0.014038606555109927\n",
      "MDH_indoorHum_medi_indoorHum_ratio 0.021638549557300955\n",
      "MDH_indoorHum_medi_indoorAtmo_ratio 0.014140544541882108\n",
      "MDH_indoorHum_medi_MDH_outdoorHum_medi_ratio 0.04765653526176762\n",
      "MDH_indoorHum_medi_MDH_outdoorHum_mean_ratio 0.04685157028652455\n",
      "MDH_indoorHum_medi_MDH_outdoorHum_max_ratio 0.03653994234277213\n",
      "MDH_indoorHum_medi_MDH_outdoorAtmo_medi_ratio 0.014031920837374368\n",
      "MDH_indoorHum_medi_MDH_outdoorAtmo_mean_ratio 0.014036232810975137\n",
      "MDH_indoorHum_medi_MDH_outdoorAtmo_max_ratio 0.01402751638417993\n",
      "MDH_indoorHum_medi_MDH_outdoorAtmo_min_ratio 0.01413480577690558\n",
      "MDH_indoorHum_medi_MDH_indoorHum_mean_ratio 0.006771342565312847\n",
      "MDH_indoorHum_medi_MDH_indoorHum_max_ratio 0.030781615915649728\n",
      "MDH_indoorHum_medi_MDH_indoorHum_min_ratio 0.033454886589443386\n",
      "MDH_indoorHum_medi_MDH_indoorAtmo_medi_ratio 0.014059560264653333\n",
      "MDH_indoorHum_medi_MDH_indoorAtmo_mean_ratio 0.014060451096663722\n",
      "MDH_indoorHum_medi_MDH_indoorAtmo_max_ratio 0.014037795032208767\n",
      "MDH_indoorHum_medi_MDH_indoorAtmo_min_ratio 0.015473505672073343\n",
      "MDH_indoorHum_mean_outdoorAtmo_ratio 0.013986312365119703\n",
      "MDH_indoorHum_mean_indoorHum_ratio 0.020675104822105023\n",
      "MDH_indoorHum_mean_indoorAtmo_ratio 0.014088062717690664\n",
      "MDH_indoorHum_mean_MDH_outdoorHum_medi_ratio 0.04740374221495183\n",
      "MDH_indoorHum_mean_MDH_outdoorHum_mean_ratio 0.04637035461910348\n",
      "MDH_indoorHum_mean_MDH_outdoorHum_max_ratio 0.03511401681060689\n",
      "MDH_indoorHum_mean_MDH_outdoorAtmo_medi_ratio 0.013979674225216733\n",
      "MDH_indoorHum_mean_MDH_outdoorAtmo_mean_ratio 0.013983933981107807\n",
      "MDH_indoorHum_mean_MDH_outdoorAtmo_max_ratio 0.013975676832970567\n",
      "MDH_indoorHum_mean_MDH_outdoorAtmo_min_ratio 0.01408394062417066\n",
      "MDH_indoorHum_mean_MDH_indoorHum_medi_ratio 0.006859926126333231\n",
      "MDH_indoorHum_mean_MDH_indoorHum_max_ratio 0.028407950900834242\n",
      "MDH_indoorHum_mean_MDH_indoorHum_min_ratio 0.03204513234232318\n",
      "MDH_indoorHum_mean_MDH_indoorAtmo_medi_ratio 0.014007445204414456\n",
      "MDH_indoorHum_mean_MDH_indoorAtmo_mean_ratio 0.014008143870754343\n",
      "MDH_indoorHum_mean_MDH_indoorAtmo_max_ratio 0.013985698184227305\n",
      "MDH_indoorHum_mean_MDH_indoorAtmo_min_ratio 0.015394817475685942\n",
      "MDH_indoorHum_max_outdoorAtmo_ratio 0.01337645271829855\n",
      "MDH_indoorHum_max_indoorHum_ratio 0.04115442190696642\n",
      "MDH_indoorHum_max_indoorAtmo_ratio 0.013482607725328328\n",
      "MDH_indoorHum_max_MDH_outdoorAtmo_medi_ratio 0.013369914773568851\n",
      "MDH_indoorHum_max_MDH_outdoorAtmo_mean_ratio 0.013373922633299059\n",
      "MDH_indoorHum_max_MDH_outdoorAtmo_max_ratio 0.013367223492395374\n",
      "MDH_indoorHum_max_MDH_outdoorAtmo_min_ratio 0.013475498666290657\n",
      "MDH_indoorHum_max_MDH_indoorHum_medi_ratio 0.03670721138721504\n",
      "MDH_indoorHum_max_MDH_indoorHum_mean_ratio 0.033460175459914435\n",
      "MDH_indoorHum_max_MDH_indoorAtmo_medi_ratio 0.01339742770891442\n",
      "MDH_indoorHum_max_MDH_indoorAtmo_mean_ratio 0.013398165472996226\n",
      "MDH_indoorHum_max_MDH_indoorAtmo_max_ratio 0.013376150450354231\n",
      "MDH_indoorHum_max_MDH_indoorAtmo_min_ratio 0.014887077063853067\n",
      "MDH_indoorHum_min_outdoorHum_ratio 0.04643884408455825\n",
      "MDH_indoorHum_min_outdoorAtmo_ratio 0.014421427594893463\n",
      "MDH_indoorHum_min_indoorHum_ratio 0.03130856829720982\n",
      "MDH_indoorHum_min_indoorAtmo_ratio 0.014521268741365672\n",
      "MDH_indoorHum_min_MDH_outdoorHum_medi_ratio 0.04195881326131534\n",
      "MDH_indoorHum_min_MDH_outdoorHum_mean_ratio 0.04065676151065583\n",
      "MDH_indoorHum_min_MDH_outdoorHum_max_ratio 0.03960499122425166\n",
      "MDH_indoorHum_min_MDH_outdoorAtmo_medi_ratio 0.014415632653112477\n",
      "MDH_indoorHum_min_MDH_outdoorAtmo_mean_ratio 0.014419247954174302\n",
      "MDH_indoorHum_min_MDH_outdoorAtmo_max_ratio 0.014410784155965351\n",
      "MDH_indoorHum_min_MDH_outdoorAtmo_min_ratio 0.014516893722388648\n",
      "MDH_indoorHum_min_MDH_indoorHum_medi_ratio 0.026338388456127952\n",
      "MDH_indoorHum_min_MDH_indoorHum_mean_ratio 0.025551753485578404\n",
      "MDH_indoorHum_min_MDH_indoorHum_max_ratio 0.04677235068753226\n",
      "MDH_indoorHum_min_MDH_indoorAtmo_medi_ratio 0.014443790933656504\n",
      "MDH_indoorHum_min_MDH_indoorAtmo_mean_ratio 0.014444427394682933\n",
      "MDH_indoorHum_min_MDH_indoorAtmo_max_ratio 0.014421657962904124\n",
      "MDH_indoorHum_min_MDH_indoorAtmo_min_ratio 0.01576336803828114\n",
      "MDH_indoorAtmo_medi_outdoorAtmo_ratio 0.006493266199589224\n",
      "MDH_indoorAtmo_medi_indoorAtmo_ratio 0.013358874284676345\n",
      "MDH_indoorAtmo_medi_MDH_outdoorAtmo_medi_ratio 0.005350419829015165\n",
      "MDH_indoorAtmo_medi_MDH_outdoorAtmo_mean_ratio 0.005652333083459203\n",
      "MDH_indoorAtmo_medi_MDH_outdoorAtmo_max_ratio 0.007591630331915534\n",
      "MDH_indoorAtmo_medi_MDH_outdoorAtmo_min_ratio 0.010282793127883726\n",
      "MDH_indoorAtmo_medi_MDH_indoorAtmo_mean_ratio 0.0005293331428551898\n",
      "MDH_indoorAtmo_medi_MDH_indoorAtmo_max_ratio 0.005288316712143068\n",
      "MDH_indoorAtmo_mean_outdoorAtmo_ratio 0.006504824403643712\n",
      "MDH_indoorAtmo_mean_indoorAtmo_ratio 0.013265033096210178\n",
      "MDH_indoorAtmo_mean_MDH_outdoorAtmo_medi_ratio 0.00536132713158799\n",
      "MDH_indoorAtmo_mean_MDH_outdoorAtmo_mean_ratio 0.0056655607284645405\n",
      "MDH_indoorAtmo_mean_MDH_outdoorAtmo_max_ratio 0.007605826480295571\n",
      "MDH_indoorAtmo_mean_MDH_outdoorAtmo_min_ratio 0.010298771319662139\n",
      "MDH_indoorAtmo_mean_MDH_indoorAtmo_medi_ratio 0.0005248194493069987\n",
      "MDH_indoorAtmo_mean_MDH_indoorAtmo_max_ratio 0.005304287432292291\n",
      "MDH_indoorAtmo_max_outdoorAtmo_ratio 0.003939680494367507\n",
      "MDH_indoorAtmo_max_indoorAtmo_ratio 0.02036117015001319\n",
      "MDH_indoorAtmo_max_MDH_outdoorAtmo_medi_ratio 0.0013632669465178599\n",
      "MDH_indoorAtmo_max_MDH_outdoorAtmo_mean_ratio 0.002280598426151051\n",
      "MDH_indoorAtmo_max_MDH_outdoorAtmo_max_ratio 0.00547110089815761\n",
      "MDH_indoorAtmo_max_MDH_outdoorAtmo_min_ratio 0.008957700099002769\n",
      "MDH_indoorAtmo_max_MDH_indoorAtmo_medi_ratio 0.007499391045416941\n",
      "MDH_indoorAtmo_max_MDH_indoorAtmo_mean_ratio 0.007510827814380711\n",
      "MDH_indoorAtmo_min_outdoorAtmo_ratio 0.030777792067610443\n",
      "MDH_indoorAtmo_min_indoorAtmo_ratio 0.0294082319559643\n",
      "MDH_indoorAtmo_min_MDH_outdoorAtmo_medi_ratio 0.03054692066862405\n",
      "MDH_indoorAtmo_min_MDH_outdoorAtmo_mean_ratio 0.030611878525628484\n",
      "MDH_indoorAtmo_min_MDH_outdoorAtmo_max_ratio 0.03097836645118567\n",
      "MDH_indoorAtmo_min_MDH_outdoorAtmo_min_ratio 0.03189445170353168\n",
      "MDH_indoorAtmo_min_MDH_indoorAtmo_medi_ratio 0.029640170246937967\n",
      "MDH_indoorAtmo_min_MDH_indoorAtmo_mean_ratio 0.029443369530986453\n",
      "MDH_indoorAtmo_min_MDH_indoorAtmo_max_ratio 0.030525638346543517\n"
     ]
    }
   ],
   "source": [
    "del_cols=[]\n",
    "for c in data_df.columns:\n",
    "    if data_df[c].std()<0.05:\n",
    "        del_cols.append(c)\n",
    "        print(c,data_df[c].std())"
   ]
  },
  {
   "cell_type": "code",
   "execution_count": 244,
   "metadata": {
    "ExecuteTime": {
     "end_time": "2020-08-16T08:23:27.862330Z",
     "start_time": "2020-08-16T08:23:27.488547Z"
    }
   },
   "outputs": [],
   "source": [
    "#del_cols[1:]\n",
    "del_cols=del_cols[1:]\n",
    "data_df.drop(del_cols,axis=1,inplace=True)"
   ]
  },
  {
   "cell_type": "code",
   "execution_count": 245,
   "metadata": {
    "ExecuteTime": {
     "end_time": "2020-08-16T08:23:27.870327Z",
     "start_time": "2020-08-16T08:23:27.864330Z"
    }
   },
   "outputs": [
    {
     "data": {
      "text/plain": [
       "(24932, 825)"
      ]
     },
     "execution_count": 245,
     "metadata": {},
     "output_type": "execute_result"
    }
   ],
   "source": [
    "data_df.shape"
   ]
  },
  {
   "cell_type": "markdown",
   "metadata": {},
   "source": [
    "#分割数据集"
   ]
  },
  {
   "cell_type": "code",
   "execution_count": 246,
   "metadata": {
    "ExecuteTime": {
     "end_time": "2020-08-16T08:23:28.143169Z",
     "start_time": "2020-08-16T08:23:27.873325Z"
    },
    "scrolled": true
   },
   "outputs": [],
   "source": [
    "#对模型进行训练并提交\n",
    "drop_columns=[\"time\",\"year\",\"sec\",\"temperature\"]\n",
    "train_count = train_df.shape[0]\n",
    "train_df = data_df[:train_count].copy().reset_index(drop=True)\n",
    "test_df = data_df[train_count:].copy().reset_index(drop=True)\n",
    "\n",
    "\n",
    "features = train_df[:1].drop(drop_columns,axis=1).columns\n",
    "train_x = train_df[features]\n",
    "test_x = test_df[features]\n",
    "test_x = test_x.fillna(method='ffill')\n",
    "train_y = train_df['temperature'].values - train_df['outdoorTemp'].values\n",
    "\n",
    "\n",
    "train = np.zeros((train_x.shape[0], 1))\n",
    "test = np.zeros((test_x.shape[0], 1))"
   ]
  },
  {
   "cell_type": "markdown",
   "metadata": {},
   "source": [
    "#LGB模型"
   ]
  },
  {
   "cell_type": "code",
   "execution_count": 247,
   "metadata": {
    "ExecuteTime": {
     "end_time": "2020-08-16T08:23:28.196138Z",
     "start_time": "2020-08-16T08:23:28.145169Z"
    }
   },
   "outputs": [],
   "source": [
    "nums = int(train_x.shape[0] * 0.90)\n",
    "trn_x, trn_y, val_x, val_y = train_x[:nums], train_y[:nums], train_x[nums:], train_y[nums:]\n",
    "    \n",
    "train_matrix = lgb.Dataset(trn_x, label=trn_y)\n",
    "valid_matrix = lgb.Dataset(val_x, label=val_y)\n",
    "data_matrix  = lgb.Dataset(train_x, label=train_y)"
   ]
  },
  {
   "cell_type": "code",
   "execution_count": 248,
   "metadata": {
    "ExecuteTime": {
     "end_time": "2020-08-16T08:23:28.206133Z",
     "start_time": "2020-08-16T08:23:28.199137Z"
    }
   },
   "outputs": [],
   "source": [
    "params = {\n",
    "            'boosting_type': 'gbdt',\n",
    "            'objective': 'mse',\n",
    "            'min_child_weight': 5,\n",
    "            'num_leaves': 32,\n",
    "            'max_depth': 10,\n",
    "            'objective': 'regression',\n",
    "            'feature_fraction': 0.8,\n",
    "            'bagging_fraction': 0.7,\n",
    "            'bagging_freq': 1,\n",
    "            'learning_rate': 0.005,\n",
    "            'seed': 520,\n",
    "            'min_data_in_leaf': 120,\n",
    "            #'lambda_l1':0.01,\n",
    "            #'lambda_l2':0.01\n",
    "        }"
   ]
  },
  {
   "cell_type": "code",
   "execution_count": 249,
   "metadata": {
    "ExecuteTime": {
     "end_time": "2020-08-16T08:30:25.158779Z",
     "start_time": "2020-08-16T08:23:28.208132Z"
    },
    "scrolled": true
   },
   "outputs": [
    {
     "name": "stdout",
     "output_type": "stream",
     "text": [
      "Training until validation scores don't improve for 1000 rounds\n",
      "[500]\ttraining's l2: 0.0315756\tvalid_1's l2: 0.0464835\n",
      "[1000]\ttraining's l2: 0.0183116\tvalid_1's l2: 0.0398441\n",
      "[1500]\ttraining's l2: 0.0151275\tvalid_1's l2: 0.038839\n",
      "[2000]\ttraining's l2: 0.0133264\tvalid_1's l2: 0.0384189\n",
      "[2500]\ttraining's l2: 0.0120687\tvalid_1's l2: 0.0381173\n",
      "[3000]\ttraining's l2: 0.0110414\tvalid_1's l2: 0.037933\n",
      "[3500]\ttraining's l2: 0.0102298\tvalid_1's l2: 0.0378773\n",
      "[4000]\ttraining's l2: 0.00956125\tvalid_1's l2: 0.0378145\n",
      "[4500]\ttraining's l2: 0.00896152\tvalid_1's l2: 0.0377754\n",
      "[5000]\ttraining's l2: 0.00843983\tvalid_1's l2: 0.037762\n",
      "[5500]\ttraining's l2: 0.0079892\tvalid_1's l2: 0.0377651\n",
      "[6000]\ttraining's l2: 0.00758675\tvalid_1's l2: 0.0377407\n",
      "[6500]\ttraining's l2: 0.00722316\tvalid_1's l2: 0.0377804\n",
      "Early stopping, best iteration is:\n",
      "[5909]\ttraining's l2: 0.00765849\tvalid_1's l2: 0.0376949\n"
     ]
    },
    {
     "ename": "KeyboardInterrupt",
     "evalue": "",
     "output_type": "error",
     "traceback": [
      "\u001b[1;31m---------------------------------------------------------------------------\u001b[0m",
      "\u001b[1;31mKeyboardInterrupt\u001b[0m                         Traceback (most recent call last)",
      "\u001b[1;32m<ipython-input-249-0887db3ef37e>\u001b[0m in \u001b[0;36m<module>\u001b[1;34m\u001b[0m\n\u001b[0;32m      1\u001b[0m \u001b[0mmodel\u001b[0m \u001b[1;33m=\u001b[0m \u001b[0mlgb\u001b[0m\u001b[1;33m.\u001b[0m\u001b[0mtrain\u001b[0m\u001b[1;33m(\u001b[0m\u001b[0mparams\u001b[0m\u001b[1;33m,\u001b[0m \u001b[0mtrain_matrix\u001b[0m\u001b[1;33m,\u001b[0m \u001b[1;36m50000\u001b[0m\u001b[1;33m,\u001b[0m \u001b[0mvalid_sets\u001b[0m\u001b[1;33m=\u001b[0m\u001b[1;33m[\u001b[0m\u001b[0mtrain_matrix\u001b[0m\u001b[1;33m,\u001b[0m \u001b[0mvalid_matrix\u001b[0m\u001b[1;33m]\u001b[0m\u001b[1;33m,\u001b[0m \u001b[0mverbose_eval\u001b[0m\u001b[1;33m=\u001b[0m\u001b[1;36m500\u001b[0m\u001b[1;33m,\u001b[0m\u001b[0mearly_stopping_rounds\u001b[0m\u001b[1;33m=\u001b[0m\u001b[1;36m1000\u001b[0m\u001b[1;33m)\u001b[0m\u001b[1;33m\u001b[0m\u001b[1;33m\u001b[0m\u001b[0m\n\u001b[1;32m----> 2\u001b[1;33m \u001b[0mmodel2\u001b[0m \u001b[1;33m=\u001b[0m \u001b[0mlgb\u001b[0m\u001b[1;33m.\u001b[0m\u001b[0mtrain\u001b[0m\u001b[1;33m(\u001b[0m\u001b[0mparams\u001b[0m\u001b[1;33m,\u001b[0m \u001b[0mdata_matrix\u001b[0m\u001b[1;33m,\u001b[0m \u001b[0mmodel\u001b[0m\u001b[1;33m.\u001b[0m\u001b[0mbest_iteration\u001b[0m\u001b[1;33m)\u001b[0m\u001b[1;33m\u001b[0m\u001b[1;33m\u001b[0m\u001b[0m\n\u001b[0m\u001b[0;32m      3\u001b[0m \u001b[0mval_pred\u001b[0m \u001b[1;33m=\u001b[0m \u001b[0mmodel\u001b[0m\u001b[1;33m.\u001b[0m\u001b[0mpredict\u001b[0m\u001b[1;33m(\u001b[0m\u001b[0mval_x\u001b[0m\u001b[1;33m,\u001b[0m \u001b[0mnum_iteration\u001b[0m\u001b[1;33m=\u001b[0m\u001b[0mmodel2\u001b[0m\u001b[1;33m.\u001b[0m\u001b[0mbest_iteration\u001b[0m\u001b[1;33m)\u001b[0m\u001b[1;33m.\u001b[0m\u001b[0mreshape\u001b[0m\u001b[1;33m(\u001b[0m\u001b[1;33m-\u001b[0m\u001b[1;36m1\u001b[0m\u001b[1;33m,\u001b[0m\u001b[1;36m1\u001b[0m\u001b[1;33m)\u001b[0m\u001b[1;33m\u001b[0m\u001b[1;33m\u001b[0m\u001b[0m\n\u001b[0;32m      4\u001b[0m \u001b[0mtest_pred\u001b[0m \u001b[1;33m=\u001b[0m \u001b[0mmodel\u001b[0m\u001b[1;33m.\u001b[0m\u001b[0mpredict\u001b[0m\u001b[1;33m(\u001b[0m\u001b[0mtest_x\u001b[0m\u001b[1;33m,\u001b[0m \u001b[0mnum_iteration\u001b[0m\u001b[1;33m=\u001b[0m\u001b[0mmodel2\u001b[0m\u001b[1;33m.\u001b[0m\u001b[0mbest_iteration\u001b[0m\u001b[1;33m)\u001b[0m\u001b[1;33m.\u001b[0m\u001b[0mreshape\u001b[0m\u001b[1;33m(\u001b[0m\u001b[1;33m-\u001b[0m\u001b[1;36m1\u001b[0m\u001b[1;33m,\u001b[0m\u001b[1;36m1\u001b[0m\u001b[1;33m)\u001b[0m\u001b[1;33m\u001b[0m\u001b[1;33m\u001b[0m\u001b[0m\n",
      "\u001b[1;32mE:\\Anaconda\\lib\\site-packages\\lightgbm\\engine.py\u001b[0m in \u001b[0;36mtrain\u001b[1;34m(params, train_set, num_boost_round, valid_sets, valid_names, fobj, feval, init_model, feature_name, categorical_feature, early_stopping_rounds, evals_result, verbose_eval, learning_rates, keep_training_booster, callbacks)\u001b[0m\n\u001b[0;32m    247\u001b[0m                                     evaluation_result_list=None))\n\u001b[0;32m    248\u001b[0m \u001b[1;33m\u001b[0m\u001b[0m\n\u001b[1;32m--> 249\u001b[1;33m         \u001b[0mbooster\u001b[0m\u001b[1;33m.\u001b[0m\u001b[0mupdate\u001b[0m\u001b[1;33m(\u001b[0m\u001b[0mfobj\u001b[0m\u001b[1;33m=\u001b[0m\u001b[0mfobj\u001b[0m\u001b[1;33m)\u001b[0m\u001b[1;33m\u001b[0m\u001b[1;33m\u001b[0m\u001b[0m\n\u001b[0m\u001b[0;32m    250\u001b[0m \u001b[1;33m\u001b[0m\u001b[0m\n\u001b[0;32m    251\u001b[0m         \u001b[0mevaluation_result_list\u001b[0m \u001b[1;33m=\u001b[0m \u001b[1;33m[\u001b[0m\u001b[1;33m]\u001b[0m\u001b[1;33m\u001b[0m\u001b[1;33m\u001b[0m\u001b[0m\n",
      "\u001b[1;32mE:\\Anaconda\\lib\\site-packages\\lightgbm\\basic.py\u001b[0m in \u001b[0;36mupdate\u001b[1;34m(self, train_set, fobj)\u001b[0m\n\u001b[0;32m   1924\u001b[0m             _safe_call(_LIB.LGBM_BoosterUpdateOneIter(\n\u001b[0;32m   1925\u001b[0m                 \u001b[0mself\u001b[0m\u001b[1;33m.\u001b[0m\u001b[0mhandle\u001b[0m\u001b[1;33m,\u001b[0m\u001b[1;33m\u001b[0m\u001b[1;33m\u001b[0m\u001b[0m\n\u001b[1;32m-> 1926\u001b[1;33m                 ctypes.byref(is_finished)))\n\u001b[0m\u001b[0;32m   1927\u001b[0m             \u001b[0mself\u001b[0m\u001b[1;33m.\u001b[0m\u001b[0m__is_predicted_cur_iter\u001b[0m \u001b[1;33m=\u001b[0m \u001b[1;33m[\u001b[0m\u001b[1;32mFalse\u001b[0m \u001b[1;32mfor\u001b[0m \u001b[0m_\u001b[0m \u001b[1;32min\u001b[0m \u001b[0mrange_\u001b[0m\u001b[1;33m(\u001b[0m\u001b[0mself\u001b[0m\u001b[1;33m.\u001b[0m\u001b[0m__num_dataset\u001b[0m\u001b[1;33m)\u001b[0m\u001b[1;33m]\u001b[0m\u001b[1;33m\u001b[0m\u001b[1;33m\u001b[0m\u001b[0m\n\u001b[0;32m   1928\u001b[0m             \u001b[1;32mreturn\u001b[0m \u001b[0mis_finished\u001b[0m\u001b[1;33m.\u001b[0m\u001b[0mvalue\u001b[0m \u001b[1;33m==\u001b[0m \u001b[1;36m1\u001b[0m\u001b[1;33m\u001b[0m\u001b[1;33m\u001b[0m\u001b[0m\n",
      "\u001b[1;31mKeyboardInterrupt\u001b[0m: "
     ]
    }
   ],
   "source": [
    "model = lgb.train(params, train_matrix, 50000, valid_sets=[train_matrix, valid_matrix], verbose_eval=500,early_stopping_rounds=1000)\n",
    "model2 = lgb.train(params, data_matrix, model.best_iteration)\n",
    "val_pred = model.predict(val_x, num_iteration=model2.best_iteration).reshape(-1,1)\n",
    "test_pred = model.predict(test_x, num_iteration=model2.best_iteration).reshape(-1,1)"
   ]
  },
  {
   "cell_type": "code",
   "execution_count": null,
   "metadata": {
    "ExecuteTime": {
     "end_time": "2020-08-16T08:15:26.759395Z",
     "start_time": "2020-08-16T08:15:25.113Z"
    }
   },
   "outputs": [],
   "source": [
    "sub[\"temperature\"] = test_pred[:,0] + test_df['outdoorTemp'].values\n",
    "sub"
   ]
  },
  {
   "cell_type": "code",
   "execution_count": null,
   "metadata": {
    "ExecuteTime": {
     "end_time": "2020-08-16T08:15:26.761395Z",
     "start_time": "2020-08-16T08:15:25.116Z"
    }
   },
   "outputs": [],
   "source": [
    "sub.to_csv('lgb_tc37_sub.csv', index=False)"
   ]
  },
  {
   "cell_type": "markdown",
   "metadata": {},
   "source": [
    "#XGB模型"
   ]
  },
  {
   "cell_type": "code",
   "execution_count": null,
   "metadata": {
    "ExecuteTime": {
     "end_time": "2020-08-16T08:15:26.762394Z",
     "start_time": "2020-08-16T08:15:25.120Z"
    }
   },
   "outputs": [],
   "source": [
    "nums = int(train_x.shape[0] * 0.90)\n",
    "#划分测试集和验证集\n",
    "trn_x, trn_y, val_x, val_y = train_x[:nums], train_y[:nums], train_x[nums:], train_y[nums:]\n",
    "\n",
    "train_matrix = xgb.DMatrix(trn_x , label=trn_y, missing=np.nan)  #训练集\n",
    "valid_matrix = xgb.DMatrix(val_x , label=val_y, missing=np.nan)  #验证集\n",
    "test_matrix = xgb.DMatrix(test_x)  #测试集"
   ]
  },
  {
   "cell_type": "code",
   "execution_count": null,
   "metadata": {
    "ExecuteTime": {
     "end_time": "2020-08-16T08:15:26.764392Z",
     "start_time": "2020-08-16T08:15:25.122Z"
    },
    "scrolled": true
   },
   "outputs": [],
   "source": [
    "params = {'booster': 'gbtree',\n",
    "          'eval_metric': 'rmse', \n",
    "          'min_child_weight': 5,\n",
    "          'max_depth': 8,\n",
    "          'subsample': 0.3,  # 减小这个参数的值，算法会更加保守，避免过拟合,典型值：0.5-1\n",
    "          'colsample_bytree': 0.5,\n",
    "          'eta': 0.05,\n",
    "          'seed': 520,\n",
    "          #'nthread': 36,\n",
    "          'silent': True,\n",
    "          #'alpha': 0.1    #默认1,L1正则化系数\n",
    "          }\n",
    "\n",
    "watchlist = [(train_matrix, 'train'),(valid_matrix, 'eval')]  # return 训练和验证的错误率\n",
    "\n",
    "model = xgb.train(params, train_matrix, num_boost_round=50000, evals=watchlist,\n",
    "                  verbose_eval=500, early_stopping_rounds=1000)\n",
    "\n"
   ]
  },
  {
   "cell_type": "code",
   "execution_count": null,
   "metadata": {
    "ExecuteTime": {
     "end_time": "2020-08-16T08:15:26.765392Z",
     "start_time": "2020-08-16T08:15:25.125Z"
    }
   },
   "outputs": [],
   "source": [
    "test_pred = model.predict(test_matrix , ntree_limit=model.best_ntree_limit).reshape(-1,1)\n",
    "\n",
    "sub[\"temperature\"] = test_pred[:,0] + test_df['outdoorTemp'].values\n",
    "sub"
   ]
  },
  {
   "cell_type": "code",
   "execution_count": null,
   "metadata": {
    "ExecuteTime": {
     "end_time": "2020-08-16T08:15:26.767391Z",
     "start_time": "2020-08-16T08:15:25.128Z"
    }
   },
   "outputs": [],
   "source": [
    "sub.to_csv('xgb_tc2_sub.csv', index=False)"
   ]
  },
  {
   "cell_type": "markdown",
   "metadata": {
    "heading_collapsed": true
   },
   "source": [
    "#catboost模型"
   ]
  },
  {
   "cell_type": "code",
   "execution_count": null,
   "metadata": {
    "ExecuteTime": {
     "end_time": "2020-08-16T08:15:26.770389Z",
     "start_time": "2020-08-16T08:15:25.131Z"
    },
    "hidden": true
   },
   "outputs": [],
   "source": [
    "nums = int(train_x.shape[0] * 0.90)\n",
    "trn_x, trn_y, val_x, val_y = train_x[:nums], train_y[:nums], train_x[nums:], train_y[nums:]\n",
    "\n",
    "params = {'learning_rate': 0.001,\n",
    "          'depth': 5, \n",
    "          'l2_leaf_reg': 10,\n",
    "          'bootstrap_type': 'Bernoulli',\n",
    "          'od_type': 'Iter', \n",
    "          'od_wait': 50,\n",
    "          'random_seed': 11,\n",
    "          'allow_writing_files': False\n",
    "         }"
   ]
  },
  {
   "cell_type": "code",
   "execution_count": null,
   "metadata": {
    "ExecuteTime": {
     "end_time": "2020-08-16T08:15:26.772388Z",
     "start_time": "2020-08-16T08:15:25.135Z"
    },
    "hidden": true,
    "scrolled": false
   },
   "outputs": [],
   "source": [
    "model = CatBoostRegressor(iterations=20000, **params)\n",
    "model.fit(trn_x, trn_y, eval_set=(val_x, val_y), cat_features=[], use_best_model=True, verbose=500)\n",
    "\n",
    "val_pred  = model.predict(val_x)\n",
    "test_pred = model.predict(test_x)"
   ]
  },
  {
   "cell_type": "code",
   "execution_count": null,
   "metadata": {
    "ExecuteTime": {
     "end_time": "2020-08-16T08:15:26.775386Z",
     "start_time": "2020-08-16T08:15:25.137Z"
    },
    "hidden": true
   },
   "outputs": [],
   "source": [
    "sub[\"temperature\"] = test_pred + test_df['outdoorTemp'].values\n",
    "sub"
   ]
  },
  {
   "cell_type": "code",
   "execution_count": null,
   "metadata": {
    "ExecuteTime": {
     "end_time": "2020-08-16T08:15:26.777388Z",
     "start_time": "2020-08-16T08:15:25.140Z"
    },
    "hidden": true
   },
   "outputs": [],
   "source": [
    "sub.to_csv('cat_tc1_sub.csv', index=False)"
   ]
  },
  {
   "cell_type": "markdown",
   "metadata": {},
   "source": [
    "#Ridge模型 (交叉验证)"
   ]
  },
  {
   "cell_type": "code",
   "execution_count": null,
   "metadata": {
    "ExecuteTime": {
     "end_time": "2020-08-16T08:15:26.780385Z",
     "start_time": "2020-08-16T08:15:25.143Z"
    }
   },
   "outputs": [],
   "source": [
    "scaler=MinMaxScaler()\n",
    "train_x=scaler.fit_transform(train_x)\n",
    "test_x=scaler.fit_transform(test_x)"
   ]
  },
  {
   "cell_type": "code",
   "execution_count": null,
   "metadata": {
    "ExecuteTime": {
     "end_time": "2020-08-16T08:15:26.784381Z",
     "start_time": "2020-08-16T08:15:25.146Z"
    }
   },
   "outputs": [],
   "source": [
    "from sklearn.model_selection import GridSearchCV\n",
    "\n",
    "#train_x,train_y,test_x 为数据\n",
    "param_tc={'alpha':[0.01,0.05,0.1,0.5,1,10]}\n",
    "\n",
    "clf=Ridge(random_state=22)\n",
    "grid=GridSearchCV(estimator=clf,param_grid=param_tc,scoring='r2',cv=10) #可适当调高cv的值\n",
    "#r2:决定系数，也称为拟合优度。范围[0,1],拟合优度越大，自变量对因变量的解释程度越高\n",
    "\n",
    "grid.fit(train_x,train_y)\n",
    "\n",
    "print(grid.best_score_)\n",
    "print(grid.best_params_)"
   ]
  },
  {
   "cell_type": "code",
   "execution_count": null,
   "metadata": {
    "ExecuteTime": {
     "end_time": "2020-08-16T08:15:26.787380Z",
     "start_time": "2020-08-16T08:15:25.149Z"
    }
   },
   "outputs": [],
   "source": [
    "from sklearn.model_selection import cross_validate"
   ]
  },
  {
   "cell_type": "code",
   "execution_count": null,
   "metadata": {
    "ExecuteTime": {
     "end_time": "2020-08-16T08:15:26.789379Z",
     "start_time": "2020-08-16T08:15:25.152Z"
    }
   },
   "outputs": [],
   "source": [
    "#选出最优参数的模型\n",
    "model=Ridge(alpha=0.02,random_state=22)\n",
    "model.fit(train_x,train_y)\n",
    "pre=model.predict(test_x)\n",
    "\n",
    "sub[\"temperature\"] = pre + test_df['outdoorTemp'].values\n",
    "sub"
   ]
  },
  {
   "cell_type": "code",
   "execution_count": null,
   "metadata": {
    "ExecuteTime": {
     "end_time": "2020-08-16T08:15:26.791377Z",
     "start_time": "2020-08-16T08:15:25.155Z"
    }
   },
   "outputs": [],
   "source": [
    "sub.to_csv('Ridge_2_sub.csv', index=False)"
   ]
  }
 ],
 "metadata": {
  "kernelspec": {
   "display_name": "Python 3",
   "language": "python",
   "name": "python3"
  },
  "language_info": {
   "codemirror_mode": {
    "name": "ipython",
    "version": 3
   },
   "file_extension": ".py",
   "mimetype": "text/x-python",
   "name": "python",
   "nbconvert_exporter": "python",
   "pygments_lexer": "ipython3",
   "version": "3.7.0"
  },
  "toc": {
   "base_numbering": 1,
   "nav_menu": {},
   "number_sections": true,
   "sideBar": true,
   "skip_h1_title": false,
   "title_cell": "Table of Contents",
   "title_sidebar": "Contents",
   "toc_cell": false,
   "toc_position": {},
   "toc_section_display": true,
   "toc_window_display": false
  }
 },
 "nbformat": 4,
 "nbformat_minor": 4
}
